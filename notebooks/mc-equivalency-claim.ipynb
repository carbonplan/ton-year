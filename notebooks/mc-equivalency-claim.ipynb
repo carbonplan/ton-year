{
 "cells": [
  {
   "cell_type": "code",
   "execution_count": null,
   "id": "54cd790e",
   "metadata": {},
   "outputs": [],
   "source": [
    "%matplotlib inline\n",
    "\n",
    "import math\n",
    "\n",
    "import numpy as np\n",
    "import matplotlib.pyplot as plt\n",
    "\n",
    "import sys; sys.path.insert(0, '..')\n",
    "import tonyear\n",
    "\n",
    "from carbonplan import styles\n",
    "styles.mpl.set_theme(style='carbonplan_light', font_scale=1.25)"
   ]
  },
  {
   "cell_type": "markdown",
   "id": "0b4e5c2f",
   "metadata": {},
   "source": [
    "## Checking Moura Costa equivalency claims\n"
   ]
  },
  {
   "cell_type": "markdown",
   "id": "97b440cb",
   "metadata": {},
   "source": [
    "The cool thing about physical equivalency claims is that they can be checked.\n",
    "With a simple example below, we show how a Moura Costa ton-year \"equivalency\"\n",
    "claim fails to produce equivalent outcomes from the standpoint of the\n",
    "atmosphere.\n",
    "\n",
    "For our simple example, we imagine a project which temporarily stores 1 tCO2 for\n",
    "20 years. We can use the Moura Costa method with the parameters below to figure\n",
    "out how this project needs to scale in order to offset the emission of 1tCO2.\n"
   ]
  },
  {
   "cell_type": "code",
   "execution_count": null,
   "id": "8f5124ba",
   "metadata": {},
   "outputs": [],
   "source": [
    "joos_2013 = tonyear.get_baseline_curve(\"joos_2013\")\n",
    "time_horizon = 100\n",
    "delay = 20\n",
    "discount_rate = 0"
   ]
  },
  {
   "cell_type": "markdown",
   "id": "e6642a8f",
   "metadata": {},
   "source": [
    "When calculated with these parameters, Moura Costa makes the following physical\n",
    "equivalence claim: storing 2.6 tCO2 for 20 years is equivalent to avoiding an\n",
    "emission altogether.\n"
   ]
  },
  {
   "cell_type": "code",
   "execution_count": null,
   "id": "72e1415b",
   "metadata": {},
   "outputs": [],
   "source": [
    "mc = tonyear.calculate_tonyears(\n",
    "    \"mc\", joos_2013, time_horizon, delay, discount_rate\n",
    ")\n",
    "print(\"Cost of emission (ton-years): \" + str(mc[\"baseline_atm_cost\"]))\n",
    "print(\"Benefit (ton-years): \" + str(mc[\"benefit\"]))\n",
    "print(\"Equivalence ratio: \" + str(mc[\"num_for_equivalence\"]))\n",
    "print()"
   ]
  },
  {
   "cell_type": "markdown",
   "id": "2b494084",
   "metadata": {},
   "source": [
    "We can check this equivalence claim by comparing atmospheric impact between:\n",
    "\n",
    "1. the scenario where the project happens , scaled according to Moura Costa's\n",
    "   equivalence ratio; and\n",
    "2. the scenario where the project doesn't happen, scaledaccording to Moura\n",
    "   Costa's equivalence ratio.\n"
   ]
  },
  {
   "cell_type": "code",
   "execution_count": null,
   "id": "97613f04",
   "metadata": {},
   "outputs": [],
   "source": [
    "scaled_project_scenario = np.concatenate(\n",
    "    (\n",
    "        (mc[\"scenario\"] * mc[\"num_for_equivalence\"])[0 : delay + 1],\n",
    "        (joos_2013 * mc[\"num_for_equivalence\"])[0 : time_horizon - delay],\n",
    "    )\n",
    ")\n",
    "\n",
    "scaled_counterfactual = (joos_2013 * mc[\"num_for_equivalence\"])[\n",
    "    0 : time_horizon + 1\n",
    "]"
   ]
  },
  {
   "cell_type": "markdown",
   "id": "058e2551",
   "metadata": {},
   "source": [
    "The difference between (2) - (1) can be understood as the benefit conferred by\n",
    "the temporary storage project from the standpoint of the atmosphere.\n",
    "\n",
    "So first we can ask, what impact did the atmosphere experience in the scaled\n",
    "project scenario? Since we'll be making relative comparisons between (1), (2)\n",
    "and the original cost of an emission, we can denomenate everything in ton-years\n",
    "rather than translating into cummulative radiative forcing.\n"
   ]
  },
  {
   "cell_type": "code",
   "execution_count": null,
   "id": "698d257b",
   "metadata": {},
   "outputs": [],
   "source": [
    "t = np.arange(time_horizon + 1)\n",
    "\n",
    "plot = plt.fill_between(\n",
    "    t[: len(scaled_project_scenario)],\n",
    "    scaled_project_scenario,\n",
    "    where=(np.array(t) <= delay),\n",
    "    color=\"green\",\n",
    "    alpha=0.2,\n",
    "    label=\"moura costa ton-year benefit of temporarily storing CO2\",\n",
    ")\n",
    "\n",
    "plt.plot(scaled_project_scenario, color=\"orange\", label=\"project scenario\")\n",
    "plot = plt.fill_between(\n",
    "    t,\n",
    "    scaled_project_scenario,\n",
    "    where=(t > delay),\n",
    "    color=\"orange\",\n",
    "    alpha=0.4,\n",
    "    label=\"atmospheric ton-year cost of emitting CO2 after storage period\",\n",
    ")\n",
    "plt.legend(loc=\"lower center\", bbox_to_anchor=(0.5, -0.5))\n",
    "\n",
    "project_atm_cost = np.trapz(scaled_project_scenario[delay + 1 :])\n",
    "print(\"Atmsopheric cost (ton-years): \" + str(project_atm_cost))"
   ]
  },
  {
   "cell_type": "markdown",
   "id": "b4af9216",
   "metadata": {},
   "source": [
    "Moura Costa calculates the benefit of temporary storage – and therefore the\n",
    "equivalency ratio – simply by looking at the area in green (the ton-years of\n",
    "storage). However, the atmosphere experiences a \"cost\" that is equivalent to the\n",
    "area in yellow (the atmospheric ton-years of CO2 emitted post-storage).\n",
    "\n",
    "We can compare the atmospheric cost of the project scenario to the atmospheric\n",
    "cost of the counterfactual where the project doesn't occur in order to calculate\n",
    "the benefit of the project from the standpoint of the atmosphere.\n"
   ]
  },
  {
   "cell_type": "code",
   "execution_count": null,
   "id": "6341ef41",
   "metadata": {},
   "outputs": [],
   "source": [
    "plot = plt.fill_between(\n",
    "    t[: len(scaled_counterfactual)],\n",
    "    scaled_counterfactual,\n",
    "    color=\"orange\",\n",
    "    alpha=0.4,\n",
    "    label=\"atmospheric ton-year cost of counterfactual\",\n",
    ")\n",
    "\n",
    "plt.legend(loc=\"lower center\", bbox_to_anchor=(0.5, -0.3))\n",
    "\n",
    "counterfactual_atm_cost = np.trapz(scaled_counterfactual)\n",
    "print(\n",
    "    \"Counterfactual atmospheric cost (ton-years): \"\n",
    "    + str(counterfactual_atm_cost)\n",
    ")"
   ]
  },
  {
   "cell_type": "markdown",
   "id": "63a238f1",
   "metadata": {},
   "source": [
    "With these two quantities calculated, we can calcuate the ton-year benefit of\n",
    "the scaled project from the standpoint of the atmosphere.\n"
   ]
  },
  {
   "cell_type": "code",
   "execution_count": null,
   "id": "14baff64",
   "metadata": {},
   "outputs": [],
   "source": [
    "atm_benefit = counterfactual_atm_cost - project_atm_cost"
   ]
  },
  {
   "cell_type": "markdown",
   "id": "c86ffc30",
   "metadata": {},
   "source": [
    "With that atmospheric benefit calculated, we can return to the orginial ton-year\n",
    "cost of an emission that we were trying to offset to ask if the atmospheric\n",
    "benefit resulting from the scaled temporary storage is equivalent to the\n",
    "atmospheric cost of the original emission.\n"
   ]
  },
  {
   "cell_type": "code",
   "execution_count": null,
   "id": "e3d8e66e",
   "metadata": {},
   "outputs": [],
   "source": [
    "print(\"Atmospheric benefit (ton-years): \" + str(atm_benefit))\n",
    "print(\"Cost of an emission (ton-years): \" + str(mc[\"baseline_atm_cost\"]))"
   ]
  },
  {
   "cell_type": "markdown",
   "id": "2bc14f8a",
   "metadata": {},
   "source": [
    "The answer is, no! The temporary storage that the Moura Costa benefit claims is\n",
    "equivalent to the original emission in fact only provides 44% of the benefit\n",
    "needed to \"offset\" the emission over the 100 year time horizon.\n"
   ]
  },
  {
   "cell_type": "code",
   "execution_count": null,
   "id": "27b72eb3",
   "metadata": {},
   "outputs": [],
   "source": [
    "round(atm_benefit / mc[\"baseline_atm_cost\"], 2)"
   ]
  },
  {
   "cell_type": "markdown",
   "id": "e2f12cc7",
   "metadata": {},
   "source": [
    "## Moura Costa can value delay more than avoided\n",
    "\n",
    "Moura Costa equivalency claims exhibit another physical inconsistency. Using the\n",
    "method results in cases where delaying emission of 1 tCO2 can justify the\n",
    "emission of more than 1 tCO2. In other words, for some parameter choices, the\n",
    "Moura Costa approach suggests that delaying emissions is more valuable than\n",
    "avoiding emissions altogether. Brandão et al., 2013 describe this result using\n",
    "geometric reasoning. With Moura Costa, the benefit of storing 1 tCO2 does not\n",
    "decrease with time -- 1 tCO2 for 10 years? 10 ton-years. 50 years? 50 ton-years\n",
    "But the atmospheric \"cost\" decreases with time; the CO2 impulse response curve\n",
    "decreases with time. As a result, it's possible that the benefits of delay (no\n",
    "decrease with time) can exceed the costs (whcih decrease with time).\n",
    "\n",
    "We can demonstrate this same behavior using the `tonyear` package. First, we\n",
    "pick some parameters that we'll keep constant.\n",
    "\n",
    "- Baseline curve: Joos et al., 2013\n",
    "- Time horizon: 100 years\n",
    "- Discount rate: 0%\n",
    "- Method: Moura Costa\n",
    "\n",
    "Then we can just change the length of the storage period and, for each storage\n",
    "period, we'll take the inverse of `num_for_equivalence`. That will tell us the\n",
    "number of avoided emissions (in tCO2) we can justify for storing 1 tCO2 for each\n",
    "storage period. Once the storage period exceeds something like 50 years, the\n",
    "Moura Costa method treats temporary carbon storage as more valuable than\n",
    "avoiding emissions altogether.\n"
   ]
  },
  {
   "cell_type": "code",
   "execution_count": null,
   "id": "8595b9c0",
   "metadata": {},
   "outputs": [],
   "source": [
    "baseline_curve = tonyear.get_baseline_curve(\"joos_2013\")\n",
    "time_horizon = 100\n",
    "discount_rate = 0.0\n",
    "method = \"mc\"\n",
    "\n",
    "storage_periods = [25, 50, 75, 100]\n",
    "\n",
    "data = {\n",
    "    storage_period: 1\n",
    "    / tonyear.calculate_tonyears(\n",
    "        method, baseline_curve, time_horizon, storage_period, discount_rate\n",
    "    )[\"num_for_equivalence\"]\n",
    "    for storage_period in storage_periods\n",
    "}\n",
    "display(data)"
   ]
  }
 ],
 "metadata": {
  "kernelspec": {
   "display_name": "Python 3 (ipykernel)",
   "language": "python",
   "name": "python3"
  },
  "language_info": {
   "codemirror_mode": {
    "name": "ipython",
    "version": 3
   },
   "file_extension": ".py",
   "mimetype": "text/x-python",
   "name": "python",
   "nbconvert_exporter": "python",
   "pygments_lexer": "ipython3",
   "version": "3.9.6"
  }
 },
 "nbformat": 4,
 "nbformat_minor": 5
}
