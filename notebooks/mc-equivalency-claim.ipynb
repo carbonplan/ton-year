{
 "cells": [
  {
   "cell_type": "markdown",
   "id": "2f538093-b521-48aa-a205-49728b99b6ec",
   "metadata": {},
   "source": [
    "<img width=\"100\" src=\"https://carbonplan-assets.s3.amazonaws.com/monogram/dark-small.png\" style=\"margin-left:0px;margin-top:20px\"/>\n",
    "\n",
    "# Checking Moura Costa equivalency claims\n",
    "\n",
    "_by Freya Chay (CarbonPlan)_\n",
    "\n",
    "The cool thing about physical equivalency claims is that they can be checked. With a simple example\n",
    "below, we show how a Moura Costa ton-year \"equivalency\" claim fails to produce equivalent outcomes\n",
    "from the standpoint of the atmosphere.\n"
   ]
  },
  {
   "cell_type": "code",
   "execution_count": 1,
   "id": "56bc9d29",
   "metadata": {},
   "outputs": [],
   "source": [
    "%load_ext watermark\n",
    "%matplotlib inline\n",
    "\n",
    "import math\n",
    "\n",
    "import numpy as np\n",
    "import matplotlib.pyplot as plt\n",
    "\n",
    "import tonyear\n",
    "\n",
    "from carbonplan import styles\n",
    "styles.mpl.set_theme(style='carbonplan_light', font_scale=1.25)"
   ]
  },
  {
   "cell_type": "code",
   "execution_count": 2,
   "id": "612169f5-b725-4b5d-995a-4bf65c6f88f9",
   "metadata": {},
   "outputs": [
    {
     "name": "stdout",
     "output_type": "stream",
     "text": [
      "Last updated: 2022-01-22T00:34:55.643141+00:00\n",
      "\n",
      "Python implementation: CPython\n",
      "Python version       : 3.9.9\n",
      "IPython version      : 7.30.1\n",
      "\n",
      "Compiler    : GCC 9.4.0\n",
      "OS          : Linux\n",
      "Release     : 5.4.0-1062-azure\n",
      "Machine     : x86_64\n",
      "Processor   : x86_64\n",
      "CPU cores   : 2\n",
      "Architecture: 64bit\n",
      "\n",
      "Git hash: f3fee74a823cc800507259b30d334107fb8b7d80\n",
      "\n",
      "carbonplan: 0.4.0\n",
      "tonyear   : 0.0.post80\n",
      "numpy     : 1.22.0\n",
      "matplotlib: 3.5.1\n",
      "\n"
     ]
    }
   ],
   "source": [
    "%watermark -u -i -v -m -g -iv"
   ]
  },
  {
   "cell_type": "markdown",
   "id": "d5605f67-d7c7-4df4-8b09-2eeb630d1006",
   "metadata": {},
   "source": [
    "For our simple example, we imagine a project which temporarily stores 1 tCO2 for 20 years. We can\n",
    "use the Moura Costa method with the parameters below to figure out how this project needs to scale\n",
    "in order to offset the emission of 1tCO2.\n"
   ]
  },
  {
   "cell_type": "code",
   "execution_count": 3,
   "id": "1f8c0f40",
   "metadata": {},
   "outputs": [],
   "source": [
    "joos_2013 = tonyear.get_baseline_curve(\"joos_2013\")\n",
    "time_horizon = 100\n",
    "delay = 20\n",
    "discount_rate = 0"
   ]
  },
  {
   "cell_type": "markdown",
   "id": "f4c1661d",
   "metadata": {},
   "source": [
    "When calculated with these parameters, Moura Costa makes the following physical equivalence claim:\n",
    "storing 2.6 tCO2 for 20 years is equivalent to avoiding an emission altogether.\n"
   ]
  },
  {
   "cell_type": "code",
   "execution_count": 4,
   "id": "cf2b2677",
   "metadata": {},
   "outputs": [
    {
     "name": "stdout",
     "output_type": "stream",
     "text": [
      "Cost of emission (ton-years): 52.36134634979823\n",
      "Benefit (ton-years):          20.0\n",
      "Equivalence ratio:            2.6180673174899116\n"
     ]
    }
   ],
   "source": [
    "mc = tonyear.calculate_tonyears(\"mc\", joos_2013, time_horizon, delay, discount_rate)\n",
    "print(\"Cost of emission (ton-years): \" + str(mc[\"baseline_atm_cost\"]))\n",
    "print(\"Benefit (ton-years):          \" + str(mc[\"benefit\"]))\n",
    "print(\"Equivalence ratio:            \" + str(mc[\"num_for_equivalence\"]))"
   ]
  },
  {
   "cell_type": "markdown",
   "id": "bc543813",
   "metadata": {},
   "source": [
    "We can check this equivalence claim by comparing atmospheric impact between:\n",
    "\n",
    "1. the scenario where the project happens , scaled according to Moura Costa's equivalence ratio; and\n",
    "2. the scenario where the project doesn't happen, scaledaccording to Moura Costa's equivalence\n",
    "   ratio.\n"
   ]
  },
  {
   "cell_type": "code",
   "execution_count": 5,
   "id": "c7f9fc54",
   "metadata": {},
   "outputs": [],
   "source": [
    "scaled_project_scenario = np.concatenate(\n",
    "    (\n",
    "        (mc[\"scenario\"] * mc[\"num_for_equivalence\"])[0 : delay + 1],\n",
    "        (joos_2013 * mc[\"num_for_equivalence\"])[0 : time_horizon - delay],\n",
    "    )\n",
    ")\n",
    "\n",
    "scaled_counterfactual = (joos_2013 * mc[\"num_for_equivalence\"])[0 : time_horizon + 1]"
   ]
  },
  {
   "cell_type": "markdown",
   "id": "66d24d01",
   "metadata": {},
   "source": [
    "The difference between (2) - (1) can be understood as the benefit conferred by the temporary storage\n",
    "project from the standpoint of the atmosphere.\n",
    "\n",
    "So first we can ask, what impact did the atmosphere experience in the scaled project scenario? Since\n",
    "we'll be making relative comparisons between (1), (2) and the original cost of an emission, we can\n",
    "denomenate everything in ton-years rather than translating into cummulative radiative forcing.\n"
   ]
  },
  {
   "cell_type": "code",
   "execution_count": 6,
   "id": "bb8224e9",
   "metadata": {},
   "outputs": [
    {
     "name": "stdout",
     "output_type": "stream",
     "text": [
      "Atmsopheric cost (ton-years): 113.96296683065066\n"
     ]
    },
    {
     "data": {
      "image/png": "[encoded data removed]",
      "text/plain": [
       "<Figure size 432x288 with 1 Axes>"
      ]
     },
     "metadata": {},
     "output_type": "display_data"
    }
   ],
   "source": [
    "t = np.arange(time_horizon + 1)\n",
    "\n",
    "plot = plt.fill_between(\n",
    "    t[: len(scaled_project_scenario)],\n",
    "    scaled_project_scenario,\n",
    "    where=(np.array(t) <= delay),\n",
    "    color=\"green\",\n",
    "    alpha=0.2,\n",
    "    label=\"moura costa ton-year benefit of temporarily storing CO2\",\n",
    ")\n",
    "\n",
    "plt.plot(scaled_project_scenario, color=\"orange\", label=\"project scenario\")\n",
    "plot = plt.fill_between(\n",
    "    t,\n",
    "    scaled_project_scenario,\n",
    "    where=(t > delay),\n",
    "    color=\"orange\",\n",
    "    alpha=0.4,\n",
    "    label=\"atmospheric ton-year cost of emitting CO2 after storage period\",\n",
    ")\n",
    "plt.legend(loc=\"lower center\", bbox_to_anchor=(0.5, -0.5))\n",
    "\n",
    "project_atm_cost = np.trapz(scaled_project_scenario[delay + 1 :])\n",
    "print(\"Atmsopheric cost (ton-years): \" + str(project_atm_cost))"
   ]
  },
  {
   "cell_type": "markdown",
   "id": "bb8329d6",
   "metadata": {},
   "source": [
    "Moura Costa calculates the benefit of temporary storage – and therefore the equivalency ratio –\n",
    "simply by looking at the area in green (the ton-years of storage). However, the atmosphere\n",
    "experiences a \"cost\" that is equivalent to the area in yellow (the atmospheric ton-years of CO2\n",
    "emitted post-storage).\n",
    "\n",
    "We can compare the atmospheric cost of the project scenario to the atmospheric cost of the\n",
    "counterfactual where the project doesn't occur in order to calculate the benefit of the project from\n",
    "the standpoint of the atmosphere.\n"
   ]
  },
  {
   "cell_type": "code",
   "execution_count": 7,
   "id": "2dea7a63",
   "metadata": {},
   "outputs": [
    {
     "name": "stdout",
     "output_type": "stream",
     "text": [
      "Counterfactual atmospheric cost (ton-years): 137.08552957817645\n"
     ]
    },
    {
     "data": {
      "image/png": "[encoded data removed]",
      "text/plain": [
       "<Figure size 432x288 with 1 Axes>"
      ]
     },
     "metadata": {},
     "output_type": "display_data"
    }
   ],
   "source": [
    "plot = plt.fill_between(\n",
    "    t[: len(scaled_counterfactual)],\n",
    "    scaled_counterfactual,\n",
    "    color=\"orange\",\n",
    "    alpha=0.4,\n",
    "    label=\"atmospheric ton-year cost of counterfactual\",\n",
    ")\n",
    "\n",
    "plt.legend(loc=\"lower center\", bbox_to_anchor=(0.5, -0.3))\n",
    "\n",
    "counterfactual_atm_cost = np.trapz(scaled_counterfactual)\n",
    "print(\"Counterfactual atmospheric cost (ton-years): \" + str(counterfactual_atm_cost))"
   ]
  },
  {
   "cell_type": "markdown",
   "id": "d6548a4d",
   "metadata": {},
   "source": [
    "With these two quantities calculated, we can calcuate the ton-year benefit of the scaled project\n",
    "from the standpoint of the atmosphere.\n"
   ]
  },
  {
   "cell_type": "code",
   "execution_count": 8,
   "id": "484d7bb0",
   "metadata": {},
   "outputs": [],
   "source": [
    "atm_benefit = counterfactual_atm_cost - project_atm_cost"
   ]
  },
  {
   "cell_type": "markdown",
   "id": "bcff53a1",
   "metadata": {},
   "source": [
    "With that atmospheric benefit calculated, we can return to the orginial ton-year cost of an emission\n",
    "that we were trying to offset to ask if the atmospheric benefit resulting from the scaled temporary\n",
    "storage is equivalent to the atmospheric cost of the original emission.\n"
   ]
  },
  {
   "cell_type": "code",
   "execution_count": 9,
   "id": "abf0517a",
   "metadata": {},
   "outputs": [
    {
     "name": "stdout",
     "output_type": "stream",
     "text": [
      "Atmospheric benefit (ton-years): 23.12256274752579\n",
      "Cost of an emission (ton-years): 52.36134634979823\n"
     ]
    }
   ],
   "source": [
    "print(\"Atmospheric benefit (ton-years): \" + str(atm_benefit))\n",
    "print(\"Cost of an emission (ton-years): \" + str(mc[\"baseline_atm_cost\"]))"
   ]
  },
  {
   "cell_type": "markdown",
   "id": "80469927",
   "metadata": {},
   "source": [
    "The answer is, no! The temporary storage that the Moura Costa benefit claims is equivalent to the\n",
    "original emission in fact only provides 44% of the benefit needed to \"offset\" the emission over the\n",
    "100 year time horizon.\n"
   ]
  },
  {
   "cell_type": "code",
   "execution_count": 10,
   "id": "5f7cf4a3",
   "metadata": {},
   "outputs": [
    {
     "data": {
      "text/plain": [
       "0.44"
      ]
     },
     "execution_count": 10,
     "metadata": {},
     "output_type": "execute_result"
    }
   ],
   "source": [
    "round(atm_benefit / mc[\"baseline_atm_cost\"], 2)"
   ]
  },
  {
   "cell_type": "markdown",
   "id": "08a05d07",
   "metadata": {},
   "source": [
    "## Moura Costa can value delay more than avoided\n",
    "\n",
    "Moura Costa equivalency claims exhibit another physical inconsistency. Using the method results in\n",
    "cases where delaying emission of 1 tCO2 can justify the emission of more than 1 tCO2. In other\n",
    "words, for some parameter choices, the Moura Costa approach suggests that delaying emissions is more\n",
    "valuable than avoiding emissions altogether. Brandão et al., 2013 describe this result using\n",
    "geometric reasoning. With Moura Costa, the benefit of storing 1 tCO2 does not decrease with time --\n",
    "1 tCO2 for 10 years? 10 ton-years. 50 years? 50 ton-years But the atmospheric \"cost\" decreases with\n",
    "time; the CO2 impulse response curve decreases with time. As a result, it's possible that the\n",
    "benefits of delay (no decrease with time) can exceed the costs (whcih decrease with time).\n",
    "\n",
    "We can demonstrate this same behavior using the `tonyear` package. First, we pick some parameters\n",
    "that we'll keep constant.\n",
    "\n",
    "- Baseline curve: Joos et al., 2013\n",
    "- Time horizon: 100 years\n",
    "- Discount rate: 0%\n",
    "- Method: Moura Costa\n",
    "\n",
    "Then we can just change the length of the storage period and, for each storage period, we'll take\n",
    "the inverse of `num_for_equivalence`. That will tell us the number of avoided emissions (in tCO2) we\n",
    "can justify for storing 1 tCO2 for each storage period. Once the storage period exceeds something\n",
    "like 50 years, the Moura Costa method treats temporary carbon storage as more valuable than avoiding\n",
    "emissions altogether.\n"
   ]
  },
  {
   "cell_type": "code",
   "execution_count": 11,
   "id": "c03e962b",
   "metadata": {},
   "outputs": [
    {
     "data": {
      "text/plain": [
       "{25: 0.47745143589296446,\n",
       " 50: 0.9549028717859289,\n",
       " 75: 1.4323543076788934,\n",
       " 100: 1.9098057435718578}"
      ]
     },
     "metadata": {},
     "output_type": "display_data"
    }
   ],
   "source": [
    "baseline_curve = tonyear.get_baseline_curve(\"joos_2013\")\n",
    "time_horizon = 100\n",
    "discount_rate = 0.0\n",
    "method = \"mc\"\n",
    "\n",
    "storage_periods = [25, 50, 75, 100]\n",
    "\n",
    "data = {\n",
    "    storage_period: 1\n",
    "    / tonyear.calculate_tonyears(\n",
    "        method, baseline_curve, time_horizon, storage_period, discount_rate\n",
    "    )[\"num_for_equivalence\"]\n",
    "    for storage_period in storage_periods\n",
    "}\n",
    "display(data)"
   ]
  }
 ],
 "metadata": {
  "kernelspec": {
   "display_name": "Python 3 (ipykernel)",
   "language": "python",
   "name": "python3"
  },
  "language_info": {
   "codemirror_mode": {
    "name": "ipython",
    "version": 3
   },
   "file_extension": ".py",
   "mimetype": "text/x-python",
   "name": "python",
   "nbconvert_exporter": "python",
   "pygments_lexer": "ipython3",
   "version": "3.9.9"
  }
 },
 "nbformat": 4,
 "nbformat_minor": 5
}
