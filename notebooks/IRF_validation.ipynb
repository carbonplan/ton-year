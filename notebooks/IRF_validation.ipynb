{
 "cells": [
  {
   "cell_type": "markdown",
   "id": "9d1a2afa-af46-4393-9acc-ecd4cbaf3e4f",
   "metadata": {},
   "source": [
    "<img width=\"100\" src=\"https://carbonplan-assets.s3.amazonaws.com/monogram/dark-small.png\" style=\"margin-left:0px;margin-top:20px\"/>\n",
    "\n",
    "# Impulse Response Function Validation\n",
    "\n",
    "_by Freya Chay (CarbonPlan)_\n",
    "\n",
    "This notebook introduces walks through a series of steps to validate our implementation of the Joos\n",
    "impulse response function.\n",
    "\n",
    "Sources:\n",
    "\n",
    "- Joos et al. Carbon dioxide and climate impulse response functions for the computation of\n",
    "  greenhouse gas metrics: a multi-model analysis, Atmos. Chem. Phys., 13, 2793–2825,\n",
    "  https://doi.org/10.5194/acp-13-2793-2013, 2013.\n",
    "\n",
    "- Anthropogenic and Natural Radiative Forcing Supplementary Material. In: Climate Change 2013: The\n",
    "  Physical Science Basis. Contribution of Working Group I to the Fifth Assessment Report of the\n",
    "  Intergovernmental Panel on Climate Change,\n",
    "  https://www.ipcc.ch/site/assets/uploads/2018/07/WGI_AR5.Chap_.8_SM.pdf\n"
   ]
  },
  {
   "cell_type": "code",
   "execution_count": null,
   "id": "dde88eaf",
   "metadata": {},
   "outputs": [],
   "source": [
    "%load_ext watermark\n",
    "%matplotlib inline\n",
    "\n",
    "import numpy as np\n",
    "import matplotlib.pyplot as plt\n",
    "\n",
    "from carbonplan import styles\n",
    "\n",
    "styles.mpl.set_theme(style=\"carbonplan_light\", font_scale=1.25)"
   ]
  },
  {
   "cell_type": "code",
   "execution_count": null,
   "id": "caa5e364-e906-4514-8e18-32c58e55ede1",
   "metadata": {},
   "outputs": [],
   "source": [
    "%watermark -u -i -v -m -g -iv"
   ]
  },
  {
   "cell_type": "markdown",
   "id": "fa30dac5",
   "metadata": {},
   "source": [
    "## Generating an IRF curve\n"
   ]
  },
  {
   "cell_type": "code",
   "execution_count": null,
   "id": "4e839541",
   "metadata": {},
   "outputs": [],
   "source": [
    "def get_irf_curve():\n",
    "    # parameters from Joos et al., 2013 (Table 5)\n",
    "    # https://doi.org/10.5194/acp-13-2793-2013\n",
    "    a = [0.2173, 0.2240, 0.2824, 0.2763]\n",
    "    tau = [0, 394.4, 36.54, 4.304]\n",
    "\n",
    "    t_horizon = np.arange(1001)\n",
    "    irf_curve = [a[0]] * len(t_horizon)\n",
    "    for t in t_horizon:\n",
    "        for i in np.arange(1, len(a)):\n",
    "            irf_curve[t] = irf_curve[t] + (a[i] * np.exp(-t / tau[i]))\n",
    "\n",
    "    return irf_curve"
   ]
  },
  {
   "cell_type": "code",
   "execution_count": null,
   "id": "47b90e76",
   "metadata": {},
   "outputs": [],
   "source": [
    "joos_2013 = get_irf_curve()\n",
    "plt.plot(joos_2013, label=\"joos_2013\")\n",
    "_ = plt.legend()"
   ]
  },
  {
   "cell_type": "markdown",
   "id": "72fd1d56",
   "metadata": {},
   "source": [
    "## Comparing results\n"
   ]
  },
  {
   "cell_type": "markdown",
   "id": "083c2482",
   "metadata": {},
   "source": [
    "Joos et al. (2013) report the following time-dependent fractions of an original pulse of CO2\n",
    "remaining in the atmosphere in section 4.1:\n",
    "\n",
    "- 0.60 +- 0.14 at year 20\n",
    "- 0.41 +- 0.13 at year 100\n",
    "- (more than) 0.25 +- 0.09 at year 1000\n"
   ]
  },
  {
   "cell_type": "code",
   "execution_count": null,
   "id": "cc7d714c",
   "metadata": {},
   "outputs": [],
   "source": [
    "print(\"At t=0:    \" + str(round(joos_2013[0], 3)))\n",
    "print(\"At t=20:   \" + str(round(joos_2013[21], 2)))\n",
    "print(\"At t=100:  \" + str(round(joos_2013[101], 2)))\n",
    "print(\"At t=1000: \" + str(round(joos_2013[-1], 6)))"
   ]
  },
  {
   "cell_type": "markdown",
   "id": "7fd4fdc6",
   "metadata": {},
   "source": [
    "The IPCC AR5 Chapter 8 SM reports the following time integrated IRF mean values using the Joos et\n",
    "al. 2013 parameters in Table 8.SM.11:\n",
    "\n",
    "- 14.2 at year 20\n",
    "- 52.4 at year 100\n"
   ]
  },
  {
   "cell_type": "code",
   "execution_count": null,
   "id": "2da66536",
   "metadata": {},
   "outputs": [],
   "source": [
    "print(\"At t=20:    \" + str(round(np.trapz(joos_2013[:21]), 1)))\n",
    "print(\"At t=100:   \" + str(round(np.trapz(joos_2013[:101]), 1)))"
   ]
  }
 ],
 "metadata": {
  "kernelspec": {
   "display_name": "Python [conda env:notebook] *",
   "language": "python",
   "name": "conda-env-notebook-py"
  },
  "language_info": {
   "codemirror_mode": {
    "name": "ipython",
    "version": 3
   },
   "file_extension": ".py",
   "mimetype": "text/x-python",
   "name": "python",
   "nbconvert_exporter": "python",
   "pygments_lexer": "ipython3",
   "version": "3.9.9"
  }
 },
 "nbformat": 4,
 "nbformat_minor": 5
}
