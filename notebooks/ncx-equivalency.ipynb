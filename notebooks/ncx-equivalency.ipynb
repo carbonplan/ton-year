{
 "cells": [
  {
   "cell_type": "markdown",
   "id": "27d16e22",
   "metadata": {},
   "source": [
    "<img width=\"100\" src=\"https://carbonplan-assets.s3.amazonaws.com/monogram/dark-small.png\" style=\"margin-left:0px;margin-top:20px\"/>\n",
    "\n",
    "# Replicating the NCX equivalency claim\n",
    "\n",
    "_by Freya Chay (CarbonPlan)_\n",
    "\n",
    "This notebook is an attempt to replicate the ton-year calculations reported by NCX in their\n",
    "previously published white papers.\n",
    "\n",
    "NCX has published two white papers making ton-year equivalency claims. The latest white paper\n",
    "([Version 0.5](https://www.google.com/url?q=https://f.hubspotusercontent20.net/hubfs/9337776/Papers/Forests%2520and%2520Carbon_A%2520Guide%2520for%2520Buyers%2520and%2520Policymakers_SilviaTerra2020_v0.4.pdf&source=gmail&ust=1642695487582000&usg=AOvVaw3V7WA3TJEB57E6mVMWlTF2))\n",
    "asserts that 30.8 tCO2 stored for 1 year is equivalent to a 1 tCO2 emission. This notebook\n",
    "replicates this result using our understanding of NCX's current ton-year accounting method.\n",
    "\n",
    "We also compare the replicated method to the implementation of the Lashof method in the `tonyear`\n",
    "package.\n",
    "\n",
    "Sources:\n",
    "\n",
    "- [Version 0.5 RISE White Paper (2021)](https://www.google.com/url?q=https://f.hubspotusercontent20.net/hubfs/9337776/Papers/Forests%2520and%2520Carbon_A%2520Guide%2520for%2520Buyers%2520and%2520Policymakers_SilviaTerra2020_v0.4.pdf&source=gmail&ust=1642695487582000&usg=AOvVaw3V7WA3TJEB57E6mVMWlTF2)\n",
    "- [Parisa et al. (2021)](https://www.researchsquare.com/article/rs-966946/v1)\n",
    "- [Jenkins et al. (2021)](https://agu2021fallmeeting-agu.ipostersessions.com/Default.aspx?s=93-9F-22-C2-9D-E7-47-9C-46-65-33-12-9E-10-AE-9F&pdfprint=true&guestview=true)\n"
   ]
  },
  {
   "cell_type": "code",
   "execution_count": null,
   "id": "5c4aad1d",
   "metadata": {},
   "outputs": [],
   "source": [
    "%load_ext watermark\n",
    "import sys\n",
    "\n",
    "import numpy as np\n",
    "from numpy.testing import assert_array_almost_equal\n",
    "import matplotlib.pyplot as plt\n",
    "\n",
    "from carbonplan import styles\n",
    "import tonyear\n",
    "\n",
    "\n",
    "styles.mpl.set_theme(style=\"carbonplan_light\", font_scale=1.25)"
   ]
  },
  {
   "cell_type": "code",
   "execution_count": null,
   "id": "34059f1b",
   "metadata": {},
   "outputs": [],
   "source": [
    "%watermark -u -i -v -m -g -iv"
   ]
  },
  {
   "cell_type": "markdown",
   "id": "061ae186",
   "metadata": {},
   "source": [
    "## IRF curve\n"
   ]
  },
  {
   "cell_type": "markdown",
   "id": "602891e3",
   "metadata": {},
   "source": [
    "The section below demonstrates that the equivalency ratio reported in the Version 0.5 RISE white\n",
    "paper, Parisa et al. (2021), and Jenkins et al. (2021) is based on the IRF curve parameterized by\n",
    "[Joos et al., 2013](https://acp.copernicus.org/articles/13/2793/2013/). We have implemented the\n",
    "joos_2013 curve in our `tonyear` module.\n",
    "\n",
    "Parisa et al. (Equation 1) characterize the impulse response function they are using with the\n",
    "following formula:\n",
    "\n",
    "$ CO_2ATM(t) = 21.73 + 22.4 * e^{-t / 394.4} + 28.24 * e^{-t / 36.54} + 27.63 * e^{-t / 4.304} $\n",
    "\n",
    "We implement this function below.\n"
   ]
  },
  {
   "cell_type": "code",
   "execution_count": null,
   "id": "30157111",
   "metadata": {},
   "outputs": [],
   "source": [
    "def bern_baseline_curve(t_horizon: int = 1001) -> np.ndarray:\n",
    "    # parameters from NCX AGU slides\n",
    "    # cited as Bern Simple Climate Model (TK: add link)\n",
    "    a = [21.73, 22.40, 28.24, 27.63]\n",
    "    tau = [0, 394.4, 36.54, 4.304]\n",
    "\n",
    "    baseline_curve = np.full(t_horizon, a[0])\n",
    "    for t in range(t_horizon):\n",
    "        for i in np.arange(1, len(a)):\n",
    "            baseline_curve[t] += a[i] * np.exp(-t / tau[i])\n",
    "    return baseline_curve\n",
    "\n",
    "\n",
    "bern = bern_baseline_curve()\n",
    "plt.plot(bern[0:101])\n",
    "plt.ylabel(\"Percent of CO2 pulse remaining\")\n",
    "plt.xlabel(\"Time after pulse emission (years)\")\n",
    "plt.show()"
   ]
  },
  {
   "cell_type": "markdown",
   "id": "c7b718a1",
   "metadata": {},
   "source": [
    "This curve is exactly 100x the joos_2013 curve implemented in the `tonyear` package. We can show\n",
    "this both numerically, and by plotting the two curves against each other. This is probably a units\n",
    "problem – the parameters used by Parisa et al. and Jenkins et al. respresent the IRF curve in terms\n",
    "of percentage, while the function implemented in the `tonyear` package returns fractions.\n"
   ]
  },
  {
   "cell_type": "code",
   "execution_count": null,
   "id": "9dccf697",
   "metadata": {},
   "outputs": [],
   "source": [
    "fig, ax = plt.subplots(nrows=2, ncols=1, figsize=(3, 6))\n",
    "joos_2013 = tonyear.get_baseline_curve(\"joos_2013\")\n",
    "assert_array_almost_equal(bern / 100, joos_2013)\n",
    "\n",
    "ax[0].plot(bern / 100, lw=3, c=\"k\", label=\"Bern/100\")\n",
    "ax[0].plot(joos_2013, ls=\"--\", lw=2, label=\"Joos 2013\")\n",
    "ax[0].set_ylabel(\"Fraction CO2\\nremaining\")\n",
    "ax[0].legend(frameon=False)\n",
    "\n",
    "ax[1].scatter(range(len(bern)), bern / 100 - joos_2013, zorder=9, c=\".3\")\n",
    "# plt.plot((0,1), (0,1), c=\"r\", ls=\"--\")\n",
    "ax[1].set_xlabel(\"Time after pulse emission (years)\")\n",
    "ax[1].set_ylabel(\"Difference\\n(Bern/100 - Joos)\")\n",
    "plt.ylim(-1, 1)\n",
    "plt.show()"
   ]
  },
  {
   "cell_type": "markdown",
   "id": "7a97d7d8",
   "metadata": {},
   "source": [
    "We can precisely replicate Parisa et al.'s Figure 1 using the joos_2013 curve:\n"
   ]
  },
  {
   "cell_type": "code",
   "execution_count": null,
   "id": "d0cb7d08",
   "metadata": {},
   "outputs": [],
   "source": [
    "plt.plot(joos_2013[0:101])\n",
    "plt.grid(alpha=0.2)\n",
    "plt.xticks([0, 25, 50, 75, 100])\n",
    "plt.yticks([0.4, 0.5, 0.6, 0.7, 0.8, 0.9, 1.0])\n",
    "plt.xlabel(\"Time after pulse emission (years)\")\n",
    "plt.ylabel(\"Fraction CO2 remaining\")\n",
    "plt.show()"
   ]
  },
  {
   "cell_type": "markdown",
   "id": "a1573fa7",
   "metadata": {},
   "source": [
    "## Checking claims (IRF Curve)\n"
   ]
  },
  {
   "cell_type": "markdown",
   "id": "f148df3b",
   "metadata": {},
   "source": [
    "Using the joos_2013 IRF curve, we can replicate various claims from Parisa et al. (2021) and Jenkins\n",
    "et al. (2021).\n"
   ]
  },
  {
   "cell_type": "markdown",
   "id": "7a34eb38",
   "metadata": {},
   "source": [
    "#### Proportion of CO2 pulse emission remaining at 100 years = 41%\n",
    "\n",
    "Parisa et al. (2021)\n",
    "\n",
    "> At the end of 100 years, for example, approximately 41% of the original CO2 impulse is expected to\n",
    "> remain in the atmosphere.\n"
   ]
  },
  {
   "cell_type": "code",
   "execution_count": null,
   "id": "a82aad70",
   "metadata": {},
   "outputs": [],
   "source": [
    "round(joos_2013[101] * 100)"
   ]
  },
  {
   "cell_type": "markdown",
   "id": "342a58a4",
   "metadata": {},
   "source": [
    "#### Before discounting, the ton-year cost of an emission with a 100 year time horizon = 53.07 ton years\n",
    "\n",
    "Parisa et al. (2021)\n",
    "\n",
    "> A ton-year is defined as one ton of carbon held for a period of one year in any carbon pool. Using\n",
    "> the Bern model, we determine the number of ton-years removed from the atmosphere as the result of\n",
    "> one ton “permanently” sequestered into the biosphere. This is the area under the curve in Figure\n",
    "> 1, which is 53.07 ton-years of impact on the climate system. In our approach, we track the tons\n",
    "> for 100 years to be consistent with the 100-year GWPs (GWP100) convention\n",
    "\n",
    "Jenkins et al. (2021)\n",
    "\n",
    "> Whereas the total carbon represented under the curve of Figure 1 is 53.07 ton-years...\n",
    "\n",
    "Pg. 19/30 of V0.5 RISE white paper\n",
    "\n",
    "> In other words, based on the shape of this curve, 1 ton CO2e is equal to a stream of about 53\n",
    "> ton-years, delivered over 100 years.\n"
   ]
  },
  {
   "cell_type": "markdown",
   "id": "8be4c1aa",
   "metadata": {},
   "source": [
    "When we integrate under the joos_2013 curve — as we do in the `tonyear` module calculations — we do\n",
    "not replicate this claim. However, Parisa et al.'s supplementary materials (page 4, Section I.c.)\n",
    "discuss performing this calculation via summation of the IRF's timestep values rather than\n",
    "integration of the IRF curve. Using the discrete summation method on the joos_2013 curve, we can\n",
    "replicate the 53.07 ton year claim.\n"
   ]
  },
  {
   "cell_type": "code",
   "execution_count": null,
   "id": "dddf7de7",
   "metadata": {},
   "outputs": [],
   "source": [
    "# integration method\n",
    "round(np.trapz(joos_2013[:101]), 2)"
   ]
  },
  {
   "cell_type": "code",
   "execution_count": null,
   "id": "dc09f9b2",
   "metadata": {},
   "outputs": [],
   "source": [
    "# summation method\n",
    "round(sum(joos_2013[:101]), 2)"
   ]
  },
  {
   "cell_type": "markdown",
   "id": "29673042",
   "metadata": {},
   "source": [
    "#### After discounting, the ton-year cost of an emission with a 100 year time horizon = 18.69. With a 1000 year time horizon, the ton-year cost is 19.12.\n",
    "\n",
    "Parisa et al. (2021)\n",
    "\n",
    "> Whereas the total carbon represented under the curve of Figure 1 is 53.07 ton-years, discounting\n",
    "> future atmospheric concentrations at 3.3% results in 18.69 ton-years of present value of climate\n",
    "> impact if the integral is truncated at 100 years, or 19.12 ton-years if the integral is truncated\n",
    "> at 1000 years.\n"
   ]
  },
  {
   "cell_type": "markdown",
   "id": "350821d9",
   "metadata": {},
   "source": [
    "Using the continuous discount function provided by Parisa et al. (2021), the joos_2013 curve, and a\n",
    "discount rate of 3.3%, we can replicate their 100 year and 1000 year results.\n"
   ]
  },
  {
   "cell_type": "code",
   "execution_count": null,
   "id": "af2f634f",
   "metadata": {},
   "outputs": [],
   "source": [
    "continuous_discounted_curve = joos_2013 * np.exp(-0.033 * np.arange(len(joos_2013)))\n",
    "discounted_hundred = round(sum(continuous_discounted_curve[:101]), 2)\n",
    "discounted_thousand = round(sum(continuous_discounted_curve[:1001]), 2)\n",
    "\n",
    "print(f\"At 100 years:  {discounted_hundred} ton-years\")\n",
    "print(f\"At 1000 years: {discounted_thousand} ton-years\")"
   ]
  },
  {
   "cell_type": "markdown",
   "id": "99792d67",
   "metadata": {},
   "source": [
    "In our ton-year module, we have implemented a slightly different discount function which is copied\n",
    "below for ease of reference.\n"
   ]
  },
  {
   "cell_type": "code",
   "execution_count": null,
   "id": "b5ac6a0a",
   "metadata": {},
   "outputs": [],
   "source": [
    "def get_discounted_curve(discount_rate: float, curve: np.ndarray) -> np.ndarray:\n",
    "    \"\"\"Get discounted curve\n",
    "    Parameters\n",
    "    ----------\n",
    "    discount_rate : float\n",
    "        Discount rate expressed as a fraction.\n",
    "    curve : np.ndarray\n",
    "    Returns\n",
    "    -------\n",
    "    discounted_curve : np.ndarray\n",
    "        Curve with discount rate applied.\n",
    "    \"\"\"\n",
    "    return curve / np.power(1 + discount_rate, np.arange(len(curve)))\n",
    "\n",
    "\n",
    "discrete_discounted_curve = get_discounted_curve(0.033, joos_2013)\n",
    "discrete_discounted_hundred = round(sum(discrete_discounted_curve[:101]), 2)\n",
    "discrete_discounted_thousand = round(sum(discrete_discounted_curve[:1001]), 2)\n",
    "\n",
    "print(f\"At 100 years:  {discrete_discounted_hundred} ton-years\")\n",
    "print(f\"At 1000 years: {discrete_discounted_thousand} ton-years\")"
   ]
  },
  {
   "cell_type": "markdown",
   "id": "6a4bc099",
   "metadata": {},
   "source": [
    "These two discounting methods produce very similar results. You can see this by plotting the two\n",
    "discounted IRF curves together, and by plotting the difference between them at each timestep.\n"
   ]
  },
  {
   "cell_type": "code",
   "execution_count": null,
   "id": "a1a559ec",
   "metadata": {},
   "outputs": [],
   "source": [
    "fig, ax = plt.subplots(nrows=2, ncols=1, figsize=(3, 6))\n",
    "\n",
    "ax[0].plot(continuous_discounted_curve, lw=3, c=\"k\", label=\"continuous (NCX)\")\n",
    "ax[0].plot(discrete_discounted_curve, ls=\"--\", lw=2, label=\"discrete (tonyear module)\")\n",
    "ax[0].set_ylabel(\"Discounted fraction \\nCO2 remaining\")\n",
    "ax[0].legend(frameon=False, bbox_to_anchor=(1, 1))\n",
    "\n",
    "ax[1].scatter(\n",
    "    range(len(continuous_discounted_curve)),\n",
    "    continuous_discounted_curve - discrete_discounted_curve,\n",
    "    zorder=9,\n",
    "    c=\".3\",\n",
    ")\n",
    "# plt.plot((0,1), (0,1), c=\"r\", ls=\"--\")\n",
    "ax[1].set_xlabel(\"Time after pulse emission (years)\")\n",
    "ax[1].set_ylabel(\"Difference\\n(continuous-discrete)\")\n",
    "plt.ylim(-1, 1)\n",
    "plt.show()"
   ]
  },
  {
   "cell_type": "markdown",
   "id": "47820d47",
   "metadata": {},
   "source": [
    "We also use an assert function to show that the discounted values each discounting function produces\n",
    "are equal up to two decimal places.\n"
   ]
  },
  {
   "cell_type": "code",
   "execution_count": null,
   "id": "e22d1f64",
   "metadata": {},
   "outputs": [],
   "source": [
    "assert_array_almost_equal(\n",
    "    discrete_discounted_curve, continuous_discounted_curve, decimal=2\n",
    ")"
   ]
  },
  {
   "cell_type": "markdown",
   "id": "618b9066",
   "metadata": {},
   "source": [
    "## Checking claims (benefit calculation)\n"
   ]
  },
  {
   "cell_type": "markdown",
   "id": "aa039f4b",
   "metadata": {},
   "source": [
    "#### With 1 year delay and a 3.3% discount rate, the ton-year cost over 100 years = 18.07; 1000 years = 18.5\n",
    "\n",
    "Parisa et al. (2021)\n",
    "\n",
    "> Delaying emissions by one year does not change the area of undiscounted ton-years, but the\n",
    "> discounted ton-years from a one-year delay total up to 18.07 if truncated at 100 years or 18.50 if\n",
    "> integrated out to 1000 years.\n"
   ]
  },
  {
   "cell_type": "code",
   "execution_count": null,
   "id": "0cd5c6e3",
   "metadata": {},
   "outputs": [],
   "source": [
    "# create a project curve by shifting the IRF curve over by one year, then discount\n",
    "project_curve = np.concatenate(([0], joos_2013))\n",
    "ncx_discounted_project_curve = project_curve * np.exp(\n",
    "    -0.033 * np.arange(len(project_curve))\n",
    ")\n",
    "\n",
    "project_cost_hundred = round(sum(ncx_discounted_project_curve[:101]), 2)\n",
    "project_cost_thousand = round(sum(ncx_discounted_project_curve[:1001]), 2)\n",
    "print(f\"At 100 years:  {project_cost_hundred} ton-years\")\n",
    "print(f\"At 1000 years: {project_cost_thousand} ton-years\")"
   ]
  },
  {
   "cell_type": "markdown",
   "id": "bfdb07d3",
   "metadata": {},
   "source": [
    "#### A 1 year delay of 1tCO2 = 0.62 ton-year benefit\n",
    "\n",
    "Parisa et al. (2021)\n",
    "\n",
    "> The value of a one-year delay in emissions, at a discount rate of 3.3% is thus 18.69 – 18.07 =\n",
    "> 0.62 ton-years if integrated out to 100 years (or 19.12 – 18.50 = 0.62 ton-years if integrated to\n",
    "> 1000 years).\n"
   ]
  },
  {
   "cell_type": "code",
   "execution_count": null,
   "id": "522ade42",
   "metadata": {},
   "outputs": [],
   "source": [
    "benefit_hundred = round(discounted_hundred - project_cost_hundred, 2)\n",
    "benefit_thousand = round(discounted_thousand - project_cost_thousand, 2)\n",
    "\n",
    "print(f\"At 100 years:  {benefit_hundred} ton-years\")\n",
    "print(f\"At 1000 years: {benefit_thousand} ton-years\")"
   ]
  },
  {
   "cell_type": "markdown",
   "id": "72631fd1",
   "metadata": {},
   "source": [
    "Parisa et al.'s description of the benefit calculation — comparing the ton-year cost of an emission\n",
    "over a specified time horizon with and without the temporary storage delay — is conceptually\n",
    "identical to the Lashof benefit calculation, though they use summation rather than integration and\n",
    "implement discounting. See, for instance, the Figure 4 caption of\n",
    "[Fearnside et al. (2000)](https://doi.org/10.1023/A:1009625122628) or the description of the benefit\n",
    "calculation on pg. 10:\n",
    "\n",
    "> The difference between the integrals of the two curves would represent the gain earned from having\n",
    "> delayed the emission.\n"
   ]
  },
  {
   "cell_type": "markdown",
   "id": "d67f8015",
   "metadata": {},
   "source": [
    "## Replicating the equivalence ratio\n"
   ]
  },
  {
   "cell_type": "markdown",
   "id": "24315ed3",
   "metadata": {},
   "source": [
    "Parisa et al. (2021)\n",
    "\n",
    "> At the 3.3% discount rate used in this analysis, we calculate 30.8 tons of carbon need to be\n",
    "> stored for 1 year to be equivalent in value to 1 ton of carbon stored in perpetuity.\n",
    "\n",
    "Pg. 20 of V0.5 RISE white paper (2021)\n",
    "\n",
    "> So, removing and storing 30.8 tons CO2 for one year, this year, has an equivalent climate impact\n",
    "> to removing 1 ton CO2e, or 1 “permanent ton.”\n",
    "\n",
    "Below, we use the Parisa et al. method to replicate the 30.8 equivalence claim.\n"
   ]
  },
  {
   "cell_type": "code",
   "execution_count": null,
   "id": "9ef49b4e",
   "metadata": {},
   "outputs": [],
   "source": [
    "time_horizon = 1000\n",
    "delay = 1\n",
    "discount_rate = 0.033\n",
    "t = np.arange(len(joos_2013))\n",
    "\n",
    "\n",
    "def NCX_equivalence_claim(irf_curve, time_horizon, delay, discount_rate):\n",
    "    baseline = irf_curve * np.exp(-discount_rate * t)\n",
    "    baseline_atm_cost = sum(baseline[: time_horizon + 1])\n",
    "\n",
    "    scenario = np.concatenate(([0] * delay, irf_curve))[: time_horizon + 1] * np.exp(\n",
    "        -discount_rate * t[: time_horizon + 1]\n",
    "    )\n",
    "    benefit = sum(baseline[: time_horizon + 1]) - sum(scenario[: time_horizon + 1])\n",
    "\n",
    "    return baseline_atm_cost / benefit\n",
    "\n",
    "\n",
    "round(NCX_equivalence_claim(joos_2013, time_horizon, delay, discount_rate), 1)"
   ]
  },
  {
   "cell_type": "markdown",
   "id": "466aee0c",
   "metadata": {},
   "source": [
    "We can compare this to the Lashof method implemented in our `tonyear` module, run with the same\n",
    "parameters. To reiterate, the Lashof calculation uses a the same IRF curve, discount rate, delay,\n",
    "and time horizon. It uses a slightly different function to apply the discount rate, and integrates\n",
    "under the IRF curve rather than summing the timestep values.\n"
   ]
  },
  {
   "cell_type": "code",
   "execution_count": null,
   "id": "96ab8a35",
   "metadata": {},
   "outputs": [],
   "source": [
    "round(\n",
    "    tonyear.calculate_tonyears(\"lashof\", joos_2013, time_horizon, delay, discount_rate)[\n",
    "        \"num_for_equivalence\"\n",
    "    ],\n",
    "    1,\n",
    ")"
   ]
  },
  {
   "cell_type": "markdown",
   "id": "e6fd1bfd",
   "metadata": {},
   "source": [
    "We can show the similarity of the NCX approach and the Lashof approach by comparing the equivalence\n",
    "ratios they calculated for a variety of delays.\n"
   ]
  },
  {
   "cell_type": "code",
   "execution_count": null,
   "id": "03b36db2",
   "metadata": {},
   "outputs": [],
   "source": [
    "delays = [1, 5, 10, 20, 30, 40, 50, 60, 70, 80, 90, 100]\n",
    "\n",
    "NCX_ratios = np.array(\n",
    "    [\n",
    "        NCX_equivalence_claim(joos_2013, time_horizon, delay, discount_rate)\n",
    "        for delay in delays\n",
    "    ]\n",
    ")\n",
    "Lashof_ratios = np.array(\n",
    "    [\n",
    "        tonyear.calculate_tonyears(\n",
    "            \"lashof\", joos_2013, time_horizon, delay, discount_rate\n",
    "        )[\"num_for_equivalence\"]\n",
    "        for delay in delays\n",
    "    ]\n",
    ")\n",
    "\n",
    "fig, ax = plt.subplots(nrows=2, ncols=1, figsize=(3, 6))\n",
    "\n",
    "ax[0].scatter(delays, NCX_ratios, label=\"NCX\")\n",
    "ax[0].scatter(delays, Lashof_ratios, label=\"Lashof\")\n",
    "ax[0].set_ylabel(\"Storage amount for\\nequivalence (tCO2)\")\n",
    "ax[0].legend(frameon=False, bbox_to_anchor=(1, 1))\n",
    "\n",
    "percent_difference = (\n",
    "    (NCX_ratios - Lashof_ratios) / ((NCX_ratios + Lashof_ratios) / 2) * 100\n",
    ")\n",
    "ax[1].scatter(delays, percent_difference, zorder=9, c=\".3\")\n",
    "# plt.plot((0,1), (0,1), c=\"r\", ls=\"--\")\n",
    "ax[1].set_xlabel(\"Delay (years)\")\n",
    "ax[1].set_ylabel(\"Percent Difference\")\n",
    "plt.ylim(-10, 10)\n",
    "plt.show()"
   ]
  },
  {
   "cell_type": "markdown",
   "id": "faf73441",
   "metadata": {},
   "source": [
    "NCX v0.5 and Lashof are quite close. It seems to be the case that the discrepancy is caused by the\n",
    "differing approaches to discounting.\n",
    "\n",
    "Discounting appears twice in the function `NCX_equivalence_claim`:\n",
    "\n",
    "```python\n",
    "    baseline = irf_curve * np.exp(-discount_rate * t)\n",
    "    ...\n",
    "    scenario = np.concatenate(([0] * delay, irf_curve))[: time_horizon + 1] * np.exp(\n",
    "        -discount_rate * t[: time_horizon + 1]\n",
    "    )\n",
    "```\n",
    "\n",
    "To explore the effect of the discounting funciton, we'll just change those two lines to use\n",
    "`get_discounted_curve` defined above.\n"
   ]
  },
  {
   "cell_type": "code",
   "execution_count": null,
   "id": "8ca2fab0",
   "metadata": {},
   "outputs": [],
   "source": [
    "def NCX_equivalence_claim_alternate_discounting(\n",
    "    irf_curve, time_horizon, delay, discount_rate\n",
    "):\n",
    "    baseline = get_discounted_curve(discount_rate, irf_curve)\n",
    "    baseline_atm_cost = sum(baseline[: time_horizon + 1])\n",
    "\n",
    "    scenario = get_discounted_curve(\n",
    "        discount_rate, np.concatenate(([0] * delay, irf_curve))[: time_horizon + 1]\n",
    "    )\n",
    "    benefit = sum(baseline[: time_horizon + 1]) - sum(scenario[: time_horizon + 1])\n",
    "\n",
    "    return baseline_atm_cost / benefit"
   ]
  },
  {
   "cell_type": "code",
   "execution_count": null,
   "id": "86183eaf",
   "metadata": {},
   "outputs": [],
   "source": [
    "delays = [1, 5, 10, 20, 30, 40, 50, 60, 70, 80, 90, 100]\n",
    "\n",
    "NCX_ratios = np.array(\n",
    "    [\n",
    "        NCX_equivalence_claim_alternate_discounting(\n",
    "            joos_2013, time_horizon, delay, discount_rate\n",
    "        )\n",
    "        for delay in delays\n",
    "    ]\n",
    ")\n",
    "Lashof_ratios = np.array(\n",
    "    [\n",
    "        tonyear.calculate_tonyears(\n",
    "            \"lashof\", joos_2013, time_horizon, delay, discount_rate\n",
    "        )[\"num_for_equivalence\"]\n",
    "        for delay in delays\n",
    "    ]\n",
    ")\n",
    "\n",
    "fig, ax = plt.subplots(nrows=2, ncols=1, figsize=(3, 6))\n",
    "\n",
    "ax[0].scatter(delays, NCX_ratios, label=\"NCX (alt. discount)\")\n",
    "ax[0].scatter(delays, Lashof_ratios, label=\"Lashof\")\n",
    "ax[0].set_ylabel(\"Storage amount for\\nequivalence (tCO2)\")\n",
    "ax[0].legend(frameon=False, bbox_to_anchor=(1.75, 1))\n",
    "\n",
    "percent_difference = (\n",
    "    (NCX_ratios - Lashof_ratios) / ((NCX_ratios + Lashof_ratios) / 2) * 100\n",
    ")\n",
    "ax[1].scatter(delays, percent_difference, zorder=9, c=\".3\")\n",
    "# plt.plot((0,1), (0,1), c=\"r\", ls=\"--\")\n",
    "ax[1].set_xlabel(\"Delay (years)\")\n",
    "ax[1].set_ylabel(\"Percent Difference\")\n",
    "plt.ylim(-10, 10)\n",
    "plt.show()"
   ]
  },
  {
   "cell_type": "markdown",
   "id": "2fbbf45f",
   "metadata": {},
   "source": [
    "When we use `get_discounted_curve`, the differences in the NCX v0.5 and Lashof approach are even\n",
    "smaller. In fact, they're nearly identical. We can check this with an assert statement -- the next\n",
    "cell will raise an error if the two approaches differ up to six decimal places.\n"
   ]
  },
  {
   "cell_type": "code",
   "execution_count": null,
   "id": "1c570952",
   "metadata": {},
   "outputs": [],
   "source": [
    "assert_array_almost_equal(NCX_ratios, Lashof_ratios)"
   ]
  },
  {
   "cell_type": "markdown",
   "id": "a61d721f",
   "metadata": {},
   "source": [
    "## Comparison table\n"
   ]
  },
  {
   "cell_type": "markdown",
   "id": "f21380e2",
   "metadata": {},
   "source": [
    "Below, we compare the NCX equivalence results from\n",
    "[Version 0.4](https://ncx.com/wp-content/uploads/2021/06/Forests-and-Carbon_A-Guide-for-Buyers-and-Policymakers_SilviaTerra2020_v0.4-2-1.pdf)\n",
    "and\n",
    "[Version 0.5](https://www.google.com/url?q=https://f.hubspotusercontent20.net/hubfs/9337776/Papers/Forests%2520and%2520Carbon_A%2520Guide%2520for%2520Buyers%2520and%2520Policymakers_SilviaTerra2020_v0.4.pdf&source=gmail&ust=1642695487582000&usg=AOvVaw3V7WA3TJEB57E6mVMWlTF2)\n",
    "of their RISE white paper to our example calculations using the Moura Costa and Lashof methods\n",
    "implemented in our ton-year module. We also include the Climate Action Reserve’s implementation of\n",
    "ton-year accounting from its\n",
    "[Soil Enrichment Protocol](https://www.climateactionreserve.org/how/protocols/soil-enrichment/).\n"
   ]
  },
  {
   "cell_type": "markdown",
   "id": "cf5f69f7",
   "metadata": {},
   "source": [
    "| Source                   | NCX v0.4 | Moura Costa (Example 1) | NCX v0.5 | Lashof (Example 1) | CAR | Lashof (Example 2) |\n",
    "| ------------------------ | -------- | ----------------------- | -------- | ------------------ | --- | ------------------ |\n",
    "| Storage Amount (tCO2)    | 17       | 17.5                    | 30.8     | 31.3               | 100 | 127.7              |\n",
    "| Storage Period (years)   | 1        | 1                       | 1        | 1                  | 1   | 1                  |\n",
    "| Time Horizon (years)     | 100      | 100                     | 1000     | 1000               | 100 | 100                |\n",
    "| Discount Rate (physical) | 3.30%    | 3.30%                   | 3.30%    | 3.30%              | 0   | 0                  |\n"
   ]
  },
  {
   "cell_type": "code",
   "execution_count": null,
   "id": "3ffccac4",
   "metadata": {},
   "outputs": [],
   "source": [
    "# Moura Costa (Example 1)\n",
    "mc_example_1 = tonyear.calculate_tonyears(\n",
    "    method=\"mc\",\n",
    "    baseline=tonyear.get_baseline_curve(\"ipcc_2007\"),\n",
    "    time_horizon=100,\n",
    "    delay=1,\n",
    "    discount_rate=0.033,\n",
    ")\n",
    "print(round(mc_example_1[\"num_for_equivalence\"], 1))"
   ]
  },
  {
   "cell_type": "code",
   "execution_count": null,
   "id": "c6ec096e",
   "metadata": {},
   "outputs": [],
   "source": [
    "# Lashof (Example 1)\n",
    "lashof_example_1 = tonyear.calculate_tonyears(\n",
    "    method=\"lashof\", baseline=joos_2013, time_horizon=1000, delay=1, discount_rate=0.033\n",
    ")\n",
    "print(round(lashof_example_1[\"num_for_equivalence\"], 1))"
   ]
  },
  {
   "cell_type": "code",
   "execution_count": null,
   "id": "b0cb9d99",
   "metadata": {},
   "outputs": [],
   "source": [
    "# Lashof (Example 1)\n",
    "lashof_example_1 = tonyear.calculate_tonyears(\n",
    "    method=\"lashof\", baseline=joos_2013, time_horizon=100, delay=1, discount_rate=0.0\n",
    ")\n",
    "print(round(lashof_example_1[\"num_for_equivalence\"], 1))"
   ]
  }
 ],
 "metadata": {
  "kernelspec": {
   "display_name": "Python 3 (ipykernel)",
   "language": "python",
   "name": "python3"
  },
  "language_info": {
   "codemirror_mode": {
    "name": "ipython",
    "version": 3
   },
   "file_extension": ".py",
   "mimetype": "text/x-python",
   "name": "python",
   "nbconvert_exporter": "python",
   "pygments_lexer": "ipython3",
   "version": "3.9.9"
  }
 },
 "nbformat": 4,
 "nbformat_minor": 5
}
