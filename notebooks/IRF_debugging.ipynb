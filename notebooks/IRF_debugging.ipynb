{
 "cells": [
  {
   "cell_type": "code",
   "execution_count": null,
   "id": "2adb02e2",
   "metadata": {},
   "outputs": [],
   "source": [
    "%matplotlib inline\n",
    "\n",
    "import numpy as np\n",
    "import matplotlib.pyplot as plt"
   ]
  },
  {
   "cell_type": "markdown",
   "id": "d618fa25",
   "metadata": {},
   "source": [
    "Sources:\n",
    "\n",
    "- Joos et al. Carbon dioxide and climate impulse response functions for the\n",
    "  computation of greenhouse gas metrics: a multi-model analysis, Atmos. Chem.\n",
    "  Phys., 13, 2793–2825, https://doi.org/10.5194/acp-13-2793-2013, 2013.\n",
    "\n",
    "- Anthropogenic and Natural Radiative Forcing Supplementary Material. In:\n",
    "  Climate Change 2013: The Physical Science Basis. Contribution of Working Group\n",
    "  I to the Fifth Assessment Report of the Intergovernmental Panel on Climate\n",
    "  Change, https://www.ipcc.ch/site/assets/uploads/2018/07/WGI_AR5.Chap_.8_SM.pdf\n"
   ]
  },
  {
   "cell_type": "markdown",
   "id": "70490c66",
   "metadata": {},
   "source": [
    "## Generating an IRF curve\n"
   ]
  },
  {
   "cell_type": "code",
   "execution_count": null,
   "id": "63a7d2a0",
   "metadata": {},
   "outputs": [],
   "source": [
    "def get_irf_curve():\n",
    "\n",
    "    # parameters from Joos et al., 2013 (Table 5)\n",
    "    # https://doi.org/10.5194/acp-13-2793-2013\n",
    "    a = [0.2173, 0.2240, 0.2824, 0.2763]\n",
    "    tau = [0, 394.4, 36.54, 4.304]\n",
    "\n",
    "    t_horizon = np.arange(1001)\n",
    "    irf_curve = [a[0]] * len(t_horizon)\n",
    "    for t in t_horizon:\n",
    "        for i in np.arange(1, len(a)):\n",
    "            irf_curve[t] = irf_curve[t] + (a[i] * np.exp(-t / tau[i]))\n",
    "\n",
    "    return irf_curve"
   ]
  },
  {
   "cell_type": "code",
   "execution_count": null,
   "id": "62afdb10",
   "metadata": {},
   "outputs": [],
   "source": [
    "joos_2013 = get_irf_curve()\n",
    "plt.plot(joos_2013, label=\"joos_2013\")\n",
    "plt.legend()"
   ]
  },
  {
   "cell_type": "markdown",
   "id": "d8dc5e96",
   "metadata": {},
   "source": [
    "## Comparing results\n"
   ]
  },
  {
   "cell_type": "markdown",
   "id": "07b77e2e",
   "metadata": {},
   "source": [
    "Joos et al. (2013) report the following time-dependent fractions of an original\n",
    "pulse of CO2 remaining in the atmosphere in section 4.1:\n",
    "\n",
    "- 0.60 +- 0.14 at year 20\n",
    "- 0.41 +- 0.13 at year 100\n",
    "- (more than) 0.25 +- 0.09 at year 1000\n"
   ]
  },
  {
   "cell_type": "code",
   "execution_count": null,
   "id": "0d05c172",
   "metadata": {},
   "outputs": [],
   "source": [
    "print()\n",
    "print(\"At t=0:   \" + str(round(joos_2013[0], 3)))\n",
    "print(\"At t=20:   \" + str(round(joos_2013[21], 2)))\n",
    "print(\"At t=100:  \" + str(round(joos_2013[101], 2)))\n",
    "print(\"At t=1000: \" + str(round(joos_2013[-1], 6)))\n",
    "print()"
   ]
  },
  {
   "cell_type": "markdown",
   "id": "819ad88d",
   "metadata": {},
   "source": [
    "The IPCC AR5 Chapter 8 SM reports the following time integrated IRF mean values\n",
    "using the Joos et al. 2013 parameters in Table 8.SM.11:\n",
    "\n",
    "- 14.2 at year 20\n",
    "- 52.4 at year 100\n"
   ]
  },
  {
   "cell_type": "code",
   "execution_count": null,
   "id": "afc67d54",
   "metadata": {},
   "outputs": [],
   "source": [
    "print()\n",
    "print(\"At t=20:   \" + str(round(np.trapz(joos_2013[:21]), 1)))\n",
    "print(\"At t=100:   \" + str(round(np.trapz(joos_2013[:101]), 1)))\n",
    "print()"
   ]
  }
 ],
 "metadata": {
  "kernelspec": {
   "display_name": "Python [conda env:notebook] *",
   "language": "python",
   "name": "conda-env-notebook-py"
  },
  "language_info": {
   "codemirror_mode": {
    "name": "ipython",
    "version": 3
   },
   "file_extension": ".py",
   "mimetype": "text/x-python",
   "name": "python",
   "nbconvert_exporter": "python",
   "pygments_lexer": "ipython3",
   "version": "3.8.10"
  }
 },
 "nbformat": 4,
 "nbformat_minor": 5
}
