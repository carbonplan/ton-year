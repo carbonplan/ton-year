{
 "cells": [
  {
   "cell_type": "code",
   "execution_count": null,
   "id": "168ed4a0",
   "metadata": {},
   "outputs": [],
   "source": [
    "import tonyear"
   ]
  },
  {
   "cell_type": "code",
   "execution_count": null,
   "id": "13f8493c",
   "metadata": {},
   "outputs": [],
   "source": [
    "baseline_curve = tonyear.get_baseline_curve('joos_2013')\n",
    "time_horizon = 100\n",
    "discount_rate = 0.0\n",
    "method = 'mc'\n",
    "\n",
    "delays = range(1,101)\n",
    "delays_of_interest = [24, 50, 75]"
   ]
  },
  {
   "cell_type": "code",
   "execution_count": null,
   "id": "86d3396e",
   "metadata": {},
   "outputs": [],
   "source": [
    "data = {delay: 1/tonyear.calculate_tonyears(method, baseline_curve, time_horizon, delay, discount_rate)['num_for_equivalence'] for delay in delays}\n",
    "subset_d = {delay: round(data[delay], 1) for delay in delays_of_interest}\n",
    "\n",
    "display(subset_d)"
   ]
  },
  {
   "cell_type": "code",
   "execution_count": null,
   "id": "c8c5e80a",
   "metadata": {},
   "outputs": [],
   "source": []
  }
 ],
 "metadata": {
  "kernelspec": {
   "display_name": "Python 3 (ipykernel)",
   "language": "python",
   "name": "python3"
  },
  "language_info": {
   "codemirror_mode": {
    "name": "ipython",
    "version": 3
   },
   "file_extension": ".py",
   "mimetype": "text/x-python",
   "name": "python",
   "nbconvert_exporter": "python",
   "pygments_lexer": "ipython3",
   "version": "3.9.6"
  }
 },
 "nbformat": 4,
 "nbformat_minor": 5
}
