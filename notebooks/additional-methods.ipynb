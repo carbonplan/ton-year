{
 "cells": [
  {
   "cell_type": "markdown",
   "id": "d48c386a",
   "metadata": {},
   "source": [
    "<img width=\"100\" src=\"https://carbonplan-assets.s3.amazonaws.com/monogram/dark-small.png\" style=\"margin-left:0px;margin-top:20px\"/>\n",
    "\n",
    "# Exploring additional tonyear approaches implemented by the Climate Action Reserve and the government of Quebec\n",
    "\n",
    "_by Freya Chay (CarbonPlan)_\n",
    "\n",
    "This notebook introduces our implementation of the ton-year methods used by the Climate Action\n",
    "Reserve (CAR) and proposed by the government of Quebec (QC).\n",
    "\n",
    "We also compare the replicated methods to the implementation of the Lashof method in the `tonyear`\n",
    "package.\n",
    "\n",
    "Sources:\n",
    "\n",
    "- [Climate Action Reserve Soil Enrichment Protocol (2020)](https://www.climateactionreserve.org/wp-content/uploads/2020/10/Soil-Enrichment-Protocol-V1.0.pdf)\n",
    "- [Quebecois draft ton-year methodology (2021)](https://www.environnement.gouv.qc.ca/changements/carbone/credits-compensatoires/quebec-protocole-foret-en.pdf)\n"
   ]
  },
  {
   "cell_type": "code",
   "execution_count": 1,
   "id": "70012c95",
   "metadata": {},
   "outputs": [],
   "source": [
    "%load_ext watermark\n",
    "%matplotlib inline\n",
    "\n",
    "import math\n",
    "\n",
    "import numpy as np\n",
    "import matplotlib.pyplot as plt\n",
    "\n",
    "import sys\n",
    "sys.path.insert(0, '/tonyear')\n",
    "import tonyear\n",
    "\n",
    "from carbonplan import styles\n",
    "styles.mpl.set_theme(style='carbonplan_light', font_scale=1.25)"
   ]
  },
  {
   "cell_type": "code",
   "execution_count": 2,
   "id": "ea6701d6",
   "metadata": {},
   "outputs": [
    {
     "name": "stdout",
     "output_type": "stream",
     "text": [
      "Last updated: 2022-02-09T01:43:06.684241+00:00\n",
      "\n",
      "Python implementation: CPython\n",
      "Python version       : 3.8.12\n",
      "IPython version      : 7.10.2\n",
      "\n",
      "Compiler    : GCC 9.4.0\n",
      "OS          : Linux\n",
      "Release     : 5.4.129+\n",
      "Machine     : x86_64\n",
      "Processor   : x86_64\n",
      "CPU cores   : 8\n",
      "Architecture: 64bit\n",
      "\n",
      "Git hash: 6ae55c811faf5bf1664026dd2cc800a3a88c73f7\n",
      "\n",
      "tonyear   : 1.0.0\n",
      "matplotlib: 3.4.3\n",
      "numpy     : 1.20.3\n",
      "sys       : 3.8.12 | packaged by conda-forge | (default, Oct 12 2021, 21:59:51) \n",
      "[GCC 9.4.0]\n",
      "carbonplan: 0.4.0\n",
      "\n"
     ]
    }
   ],
   "source": [
    "%watermark -u -i -v -m -g -iv"
   ]
  },
  {
   "cell_type": "code",
   "execution_count": 3,
   "id": "e7df1ced",
   "metadata": {
    "jupyter": {
     "source_hidden": true
    }
   },
   "outputs": [],
   "source": [
    "def get_discounted_curve(discount_rate: float, curve: np.ndarray) -> np.ndarray:\n",
    "    \"\"\"Get discounted curve\n",
    "\n",
    "    Parameters\n",
    "    ----------\n",
    "    discount_rate : float\n",
    "        Discount rate expressed as a fraction.\n",
    "    curve : np.ndarray\n",
    "\n",
    "    Returns\n",
    "    -------\n",
    "    discounted_curve : np.ndarray\n",
    "        Curve with discount rate applied.\n",
    "    \"\"\"\n",
    "    return curve / np.power(1 + discount_rate, np.arange(len(curve)))"
   ]
  },
  {
   "cell_type": "code",
   "execution_count": 4,
   "id": "ef51c7f8",
   "metadata": {
    "jupyter": {
     "source_hidden": true
    }
   },
   "outputs": [],
   "source": [
    "def calculate_tonyears(\n",
    "    method: str, baseline: np.ndarray, time_horizon: int, delay: int, discount_rate: float\n",
    ") -> dict:\n",
    "    \"\"\"This function calculates the benefit of a delayed emission according one\n",
    "    of two ton-year accounting methods.\n",
    "\n",
    "    Parameters\n",
    "    ----------\n",
    "    method : str\n",
    "        The ton-year accounting method (Moura Costa: 'mc', or Lashof: 'lashof')\n",
    "    baseline : np.ndarray\n",
    "        Array modeling the residence of an emission in the atmosphere over time, i.e. a decay\n",
    "        curve / impulse response function\n",
    "    time_horizon : int\n",
    "        Specifies the period over which the impact of an emission is considered (years)\n",
    "    delay : int\n",
    "        Specifies the emission delay for which a ton-year benefit will be calculated (years)\n",
    "    discount_rate : float\n",
    "        Specifies the discount rate to apply time preference to both costs and benefits over the\n",
    "        time horizon. Extreme caution should be used when applying discounting within ton-year\n",
    "        accounting. See documentation for more details.\n",
    "\n",
    "    Returns\n",
    "    -------\n",
    "    method_dict : dict\n",
    "        Return dict with the following keys:\n",
    "\n",
    "        - `parameters` : key parameters used for the calculation\n",
    "        - `baseline` : array modeling baseline emission curve, discounted if applicable\n",
    "        - `scenario` : array modeling the scenario curve, discounted if applicable\n",
    "        - `baseline_atm_cost` : the cost of of a baseline emission\n",
    "        - `benefit` : the benefit of delaying an emission, calculated according to\n",
    "          specified accounting method\n",
    "        - `num_for_equivalence` : the ratio between the baseline cost and the benefit\n",
    "\n",
    "    \"\"\"\n",
    "\n",
    "    if delay < 0:\n",
    "        raise ValueError(\"Delay cannot be negative.\")\n",
    "    if time_horizon <= 0:\n",
    "        raise ValueError(\"Time horizon must be greater than zero.\")\n",
    "    if len(baseline) < time_horizon:\n",
    "        raise ValueError(\"Time horizon cannot be longer than length of the baseline array.\")\n",
    "\n",
    "    # All methods calculate the baseline cost of emitting 1tCO2 at t=0 as the\n",
    "    # atmospheric ton-years incurred over the period 0<=t<=time_horizon.\n",
    "    time_horizon_timesteps = time_horizon + 1\n",
    "    baseline = baseline[:time_horizon_timesteps]\n",
    "    baseline_discounted = get_discounted_curve(discount_rate, baseline)\n",
    "    baseline_atm_cost = np.trapz(baseline_discounted)\n",
    "\n",
    "    if method == \"mc\":\n",
    "        # The Moura-Costa method calculates the ton-year benefit of a delayed emission\n",
    "        # as the ton-years of carbon storage outside of the atmosphere over the period\n",
    "        # 0<=t<=delay. Moura-Costa ignores the atmospheric impact of post-storage re-emission.\n",
    "        delay_timesteps = delay + 1\n",
    "        scenario = np.concatenate(\n",
    "            (np.full(delay_timesteps, -1), np.zeros(len(baseline) - delay_timesteps))\n",
    "        )\n",
    "        scenario = get_discounted_curve(discount_rate, scenario)\n",
    "        benefit = -np.trapz(scenario[:delay_timesteps])\n",
    "\n",
    "    elif method == \"lashof\":\n",
    "        # The Lashof method calculates calculates the ton-year benefit of an emission at t=delay\n",
    "        # as the atmospheric cost that no longer occurs within the time horizon. This can also\n",
    "        # be understood as the difference between the baseline atmospheric cost and the scenario\n",
    "        # atmospheric cost, calculated over the period delay<=t<=time_horizon.\n",
    "        scenario = np.concatenate((np.zeros(delay), baseline))[:time_horizon_timesteps]\n",
    "        scenario = get_discounted_curve(discount_rate, scenario)\n",
    "        benefit = baseline_atm_cost - np.trapz(scenario[delay:])\n",
    "\n",
    "    elif method == \"car\":\n",
    "        scenario = np.concatenate((np.zeros(delay), baseline))[:time_horizon_timesteps]\n",
    "        scenario = get_discounted_curve(discount_rate, scenario)\n",
    "        benefit = (1 / time_horizon) * baseline_atm_cost * delay\n",
    "\n",
    "    elif method == \"qc\":\n",
    "        scenario = np.concatenate((np.zeros(delay), baseline))[:time_horizon_timesteps]\n",
    "        scenario = get_discounted_curve(discount_rate, scenario)\n",
    "        benefit = np.trapz(baseline[: delay + 1])\n",
    "\n",
    "    else:\n",
    "        raise ValueError(f\"No ton-year accounting method called {method}\")\n",
    "\n",
    "    return {\n",
    "        \"parameters\": {\n",
    "            \"method\": method,\n",
    "            \"time_horizon\": time_horizon,\n",
    "            \"delay\": delay,\n",
    "            \"discount_rate\": discount_rate,\n",
    "        },\n",
    "        \"baseline\": baseline_discounted,\n",
    "        \"scenario\": scenario,\n",
    "        \"baseline_atm_cost\": baseline_atm_cost,\n",
    "        \"benefit\": benefit,\n",
    "        \"num_for_equivalence\": baseline_atm_cost / benefit,\n",
    "    }"
   ]
  },
  {
   "cell_type": "markdown",
   "id": "d4bec879",
   "metadata": {},
   "source": [
    "## Comparing the CAR and Quebecois methods to Lashof\n"
   ]
  },
  {
   "cell_type": "markdown",
   "id": "0f7eada7",
   "metadata": {},
   "source": [
    "If you aren't familiar with the Lashof method or the concept of an 'equivalence ratio', please take\n",
    "a minute to check out our\n",
    "[ton-year explainer article](https://carbonplan.org/research/ton-year-explainer). In brief, the\n",
    "equivalence ratio describes how many tons of CO₂ need to be temporarily stored to justify an\n",
    "additional ton of CO₂ emitted to the atmosphere today under a given set of assumptions.\n",
    "\n",
    "The Lashof method calculates the benefit of temporary carbon storage by asking how many ton-years of\n",
    "atmospheric impact are avoided as a result of the carbon storage. To do so, the Lashof method looks\n",
    "looks both at the ton-year benefit of the carbon storage and at the ton-year cost of re-emission\n",
    "after the storage period ends.\n",
    "\n",
    "Neither the CAR nor Quebecois methods explicitly consider the ton-year cost of re-emission. We can\n",
    "compare the equivalence ratios generated by these methods to the equivalence ratios generated by the\n",
    "Lashof method get a sense of how much temporary carbon storage might be overvalued as a result.\n",
    "\n",
    "Both the CAR and Quebecois methods are explored in more detail below.\n"
   ]
  },
  {
   "cell_type": "code",
   "execution_count": 6,
   "id": "d6f6eeef",
   "metadata": {},
   "outputs": [
    {
     "data": {
      "image/png": "[encoded data removed]",
      "text/plain": [
       "<Figure size 432x288 with 1 Axes>"
      ]
     },
     "metadata": {},
     "output_type": "display_data"
    }
   ],
   "source": [
    "curve = tonyear.get_baseline_curve(\"joos_2013\")\n",
    "delays = np.arange(1, 101)\n",
    "time_horizon = 100\n",
    "discount_rate = 0\n",
    "\n",
    "equivalence_lashof = [\n",
    "    1\n",
    "    / tonyear.calculate_tonyears(\"lashof\", curve, time_horizon, delay, discount_rate)[\n",
    "        \"num_for_equivalence\"\n",
    "    ]\n",
    "    for delay in delays\n",
    "]\n",
    "equivalence_car = [\n",
    "    1 / calculate_tonyears(\"car\", curve, time_horizon, delay, discount_rate)[\"num_for_equivalence\"]\n",
    "    for delay in delays\n",
    "]\n",
    "equivalence_qc = [\n",
    "    1 / calculate_tonyears(\"qc\", curve, time_horizon, delay, discount_rate)[\"num_for_equivalence\"]\n",
    "    for delay in delays\n",
    "]\n",
    "\n",
    "plt.plot(np.array(equivalence_qc) / np.array(equivalence_lashof), label=\"Quebec/Lashof\")\n",
    "plt.plot(np.array(equivalence_car) / np.array(equivalence_lashof), label=\"CAR/Lashof\")\n",
    "\n",
    "plt.xlabel(\"Delay\")\n",
    "plt.legend()\n",
    "plt.show()"
   ]
  },
  {
   "cell_type": "markdown",
   "id": "989a41ec",
   "metadata": {},
   "source": [
    "While all three methods converge on 100 years of carbon storage being equivalent to a 1 tCO2\n",
    "emission, they diverge for shorter storage periods. The Quebecoi method, in particular, overvalues\n",
    "very temporary storage by ignoring the costs of re-emission. To give a more specific example, we can\n",
    "compare how tCO2 stored for 1 year each method would require for equivalence.\n"
   ]
  },
  {
   "cell_type": "code",
   "execution_count": null,
   "id": "f59a5dc8",
   "metadata": {},
   "outputs": [],
   "source": [
    "print(f\"Lashof requires:   {round(1/equivalence_lashof[0])} tCO2 stored for 1 year\")\n",
    "print(f\"CAR requires:      {round(1/equivalence_car[0])} tCO2 stored for 1 year\")\n",
    "print(f\"Quebec requires:   {round(1/equivalence_qc[0])} tCO2 stored for 1 year\")\n",
    "print()"
   ]
  },
  {
   "cell_type": "markdown",
   "id": "a73077e7",
   "metadata": {},
   "source": [
    "## The Climate Action Reserve method\n"
   ]
  },
  {
   "cell_type": "markdown",
   "id": "407192dc",
   "metadata": {},
   "source": [
    "The Climate Action Reserve (CAR) ton-year method calculates the benefit of temporary carbon storage\n",
    "by (1) defining the duration of carbon storage considered equivalent to an emission and (2) awarding\n",
    "proportional credit linearly over the time horizon for more temporary storage.\n",
    "\n",
    "CAR specifically defines 100 year storage as \"completely mitigat[ing] an equal GHG emission\n",
    "elsewhere.\" In other words, CAR claims that storing 1 tCO2 for 100 years (100 ton-years of storage)\n",
    "is equivalent to a 1 tCO2 emission. Storing 1 tCO2 for 1 years (1 ton-years) would only provide\n",
    "1/100th of the benefit needed for equivalence. Similarly, storing 1 tCO2 for 20 years (20 ton-years)\n",
    "would provide 1/5th of the benefit needed for equivalence.\n",
    "\n",
    "The CAR ton year accounting method is in the Soil Enrichment Protocol (V1) in section 3.5.5:\n",
    "https://www.climateactionreserve.org/wp-content/uploads/2020/10/Soil-Enrichment-Protocol-V1.0.pdf\n",
    "\n",
    "We show two examples of the `tonyear` module's calculations below for CAR's method with a 100 year\n",
    "time horizon.\n"
   ]
  },
  {
   "cell_type": "code",
   "execution_count": null,
   "id": "eac38c51",
   "metadata": {},
   "outputs": [],
   "source": [
    "time_horizon = 100\n",
    "discount_rate = 0\n",
    "delay = 1\n",
    "baseline = tonyear.get_baseline_curve(\"joos_2013\")\n",
    "\n",
    "tonyear.print_benefit_report(\n",
    "    calculate_tonyears(\"car\", baseline, time_horizon, delay, discount_rate)\n",
    ")"
   ]
  },
  {
   "cell_type": "code",
   "execution_count": null,
   "id": "5bba3a10",
   "metadata": {},
   "outputs": [],
   "source": [
    "time_horizon = 100\n",
    "discount_rate = 0\n",
    "delay = 30\n",
    "baseline = tonyear.get_baseline_curve(\"joos_2013\")\n",
    "\n",
    "tonyear.print_benefit_report(\n",
    "    calculate_tonyears(\"car\", baseline, time_horizon, delay, discount_rate)\n",
    ")"
   ]
  },
  {
   "cell_type": "markdown",
   "id": "b4d5c2c2",
   "metadata": {},
   "source": [
    "In essence, the CAR method awards benefit linearly in proportion to the time_horizon of choice.\n"
   ]
  },
  {
   "cell_type": "markdown",
   "id": "b65b2ac4",
   "metadata": {},
   "source": [
    "## Proposed Quebecois method\n"
   ]
  },
  {
   "cell_type": "markdown",
   "id": "85f01410",
   "metadata": {},
   "source": [
    "The governement of Quebec (specifically the Ministère de l’Environnement et de la Lutte contre les\n",
    "changements climatiques) has published a draft ton-year accounting method which (as of\n",
    "February 2022) is\n",
    "[presented](https://www.environnement.gouv.qc.ca/changements/carbone/credits-compensatoires/index-en.htm#developing-regulations-work)\n",
    "as a work in progress to \"allow more offset credit projects to be carried out and to increase the\n",
    "supply of Québec credits...\" The proposed method calculates the benefit of temporary carbon storage\n",
    "by (1) defining the duration of carbon storage considered equivalent to an emission and (2) awarding\n",
    "credit over the time horizon in proportion to the shape of the IRF curve.\n",
    "\n",
    "The Quebecois method is described in a slide deck presenting the draft ton-year accounting approach:\n",
    "https://www.environnement.gouv.qc.ca/changements/carbone/credits-compensatoires/quebec-protocole-foret-en.pdf\n",
    "\n",
    "We show an example of the `tonyear` module's implementation of Quebecois method below.\n"
   ]
  },
  {
   "cell_type": "code",
   "execution_count": null,
   "id": "a3f87423",
   "metadata": {},
   "outputs": [],
   "source": [
    "time_horizon = 100\n",
    "discount_rate = 0\n",
    "delay = 30\n",
    "baseline = tonyear.get_baseline_curve(\"joos_2013\")\n",
    "\n",
    "qc = calculate_tonyears(\"qc\", baseline, time_horizon, delay, discount_rate)\n",
    "tonyear.print_benefit_report(qc)\n",
    "percent_credit = round(qc[\"benefit\"] / qc[\"baseline_atm_cost\"], 1)\n",
    "print(\n",
    "    f\"--> {qc['parameters']['delay']} year delay corresponds to {percent_credit*100}% of a credit\"\n",
    ")\n",
    "print()"
   ]
  },
  {
   "cell_type": "markdown",
   "id": "1e133781",
   "metadata": {},
   "source": [
    "In essence, the Quebecois method awards benefit in proportion to the shape of the IRF curve used to\n",
    "approximate the radiative forcing effect resulting from a CO2 emission in the atmosphere.\n"
   ]
  },
  {
   "cell_type": "code",
   "execution_count": null,
   "id": "5840949d",
   "metadata": {},
   "outputs": [],
   "source": [
    "t = np.arange(qc[\"parameters\"][\"time_horizon\"] + 1)\n",
    "\n",
    "fig, ax = plt.subplots(nrows=2, ncols=1, figsize=(5, 8))\n",
    "\n",
    "ax[0].fill_between(\n",
    "    t,\n",
    "    qc[\"baseline\"],\n",
    "    color=\"red\",\n",
    "    alpha=0.2,\n",
    "    label=\"ton-year cost of emitting 1tCO2\",\n",
    ")\n",
    "\n",
    "delay = qc[\"parameters\"][\"delay\"]\n",
    "time_horizon = qc[\"parameters\"][\"time_horizon\"]\n",
    "\n",
    "ax[1].plot(qc[\"baseline\"], color=\"red\", alpha=0.2)\n",
    "ax[1].fill_between(\n",
    "    t,\n",
    "    qc[\"baseline\"],\n",
    "    where=(t <= qc[\"parameters\"][\"delay\"]),\n",
    "    color=\"green\",\n",
    "    alpha=0.2,\n",
    "    label=\"ton-year benefit temporary storage period\",\n",
    ")\n",
    "\n",
    "handles = []\n",
    "labels = []\n",
    "for ax in fig.axes:\n",
    "    ax_handles, ax_labels = ax.get_legend_handles_labels()\n",
    "    handles.extend(ax_handles)\n",
    "    labels.extend(ax_labels)\n",
    "fig.legend(handles, labels, loc=\"lower center\", bbox_to_anchor=(0.5, -0.1))\n",
    "plt.show()"
   ]
  }
 ],
 "metadata": {
  "kernelspec": {
   "display_name": "Python 3",
   "language": "python",
   "name": "python3"
  },
  "language_info": {
   "codemirror_mode": {
    "name": "ipython",
    "version": 3
   },
   "file_extension": ".py",
   "mimetype": "text/x-python",
   "name": "python",
   "nbconvert_exporter": "python",
   "pygments_lexer": "ipython3",
   "version": "3.8.12"
  }
 },
 "nbformat": 4,
 "nbformat_minor": 5
}
