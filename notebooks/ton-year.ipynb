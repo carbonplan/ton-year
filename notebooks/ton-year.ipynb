{
 "cells": [
  {
   "cell_type": "code",
   "execution_count": null,
   "id": "38cb6efe",
   "metadata": {},
   "outputs": [],
   "source": [
    "%matplotlib inline\n",
    "\n",
    "import math\n",
    "\n",
    "import numpy as np\n",
    "import matplotlib.pyplot as plt"
   ]
  },
  {
   "cell_type": "markdown",
   "id": "caa44afc",
   "metadata": {},
   "source": [
    "# Carbon Impulse Response Function (i.e. the baseline curve)\n"
   ]
  },
  {
   "cell_type": "markdown",
   "id": "90656242",
   "metadata": {},
   "source": [
    "This section models two Impulse Reponse Functions (IRFs). An IRF represents the\n",
    "time-dependent fraction of an emission pulse remaining in the atmosphere at time\n",
    "t. It is usually approximated by a sum of exponentials:\n",
    "\n",
    "$ IRF_x(t) = a_{x,0} + \\sum_{i=1}^{3} a_{x,i} * e^{-t / tau_i} $\n",
    "\n",
    "You can read more about IRFs here:\n",
    "https://www.ipcc.ch/site/assets/uploads/2018/07/WGI_AR5.Chap_.8_SM.pdf\n",
    "\n",
    "The $a$ and $tau$ parameters for CO2 can be taken from literature:\n",
    "\n",
    "- Joos, F., Roth, R., Fuglestvedt, J. S., Peters, G. P., Enting, I. G., von\n",
    "  Bloh, W., Brovkin, V., Burke, E. J., Eby, M., Edwards, N. R., Friedrich, T.,\n",
    "  Frölicher, T. L., Halloran, P. R., Holden, P. B., Jones, C., Kleinen, T.,\n",
    "  Mackenzie, F. T., Matsumoto, K., Meinshausen, M., Plattner, G.-K., Reisinger,\n",
    "  A., Segschneider, J., Shaffer, G., Steinacher, M., Strassmann, K., Tanaka, K.,\n",
    "  Timmermann, A., and Weaver, A. J.: Carbon dioxide and climate impulse response\n",
    "  functions for the computation of greenhouse gas metrics: a multi-model\n",
    "  analysis, Atmos. Chem. Phys., 13, 2793–2825,\n",
    "  https://doi.org/10.5194/acp-13-2793-2013, 2013.\n",
    "\n",
    "* Forster, P., V. Ramaswamy, P. Artaxo, T. Berntsen, R. Betts, D.W. Fahey, J.\n",
    "  Haywood, J. Lean, D.C. Lowe, G. Myhre, J. Nganga, R. Prinn, G. Raga, M. Schulz\n",
    "  and R. Van Dorland, 2007: Changes in Atmospheric Constituents and in Radiative\n",
    "  Forcing. In: Climate Change 2007: The Physical Science Basis. Contribution of\n",
    "  Working Group I to the Fourth Assessment Report of the Intergovernmental Panel\n",
    "  on Climate Change [Solomon, S., D. Qin, M. Manning, Z. Chen, M. Marquis, K.B.\n",
    "  Averyt, M.Tignor and H.L. Miller (eds.)]:\n",
    "  https://www.ipcc.ch/site/assets/uploads/2018/02/ar4-wg1-chapter2-1.pdf\n",
    "  (pg. 213)\n",
    "\n",
    "- IPCC: Special Report on Land Use, Land‐Use Change, and Forestry, Section\n",
    "  2.3.6.3, 2000,\n",
    "  https://archive.ipcc.ch/ipccreports/sres/land_use/index.php?idp=74 and\n",
    "  footnote https://archive.ipcc.ch/ipccreports/sres/land_use/fn3.htm#4\n"
   ]
  },
  {
   "cell_type": "code",
   "execution_count": null,
   "id": "7fd7cd38",
   "metadata": {},
   "outputs": [],
   "source": [
    "def get_irf_curve(curve_name):\n",
    "\n",
    "    if curve_name == \"joos_2013\":\n",
    "        # parameters from Joos et al., 2013 (Table 5)\n",
    "        # https://doi.org/10.5194/acp-13-2793-2013\n",
    "        a = [0.2173, 0.2240, 0.2824, 0.2763]\n",
    "        tau = [0, 394.4, 36.54, 4.304]\n",
    "        t_horizon = np.arange(1001)\n",
    "\n",
    "    elif curve_name == \"ipcc_2007\":\n",
    "        # parameters from IPCC AR4 2007 (Chapter 2, page 213)\n",
    "        # https://www.ipcc.ch/site/assets/uploads/2018/02/ar4-wg1-chapter2-1.pdf\n",
    "        a = [0.217, 0.259, 0.338, 0.186]\n",
    "        tau = [0, 172.9, 18.51, 1.186]\n",
    "        t_horizon = np.arange(1001)\n",
    "\n",
    "    elif curve_name == \"ipcc_2000\":\n",
    "        # parameters from IPCC Land Use, Land-Use Change and Forestry Special Report 2000 (Chapter 2.3.6.3, Footnote 4)\n",
    "        # https://archive.ipcc.ch/ipccreports/sres/land_use/index.php?idp=74\n",
    "        a = [0.175602, 0.137467, 0.18576, 0.242302, 0.258868]\n",
    "        tau = [0, 421.093, 70.5965, 21.42165, 3.41537]\n",
    "        t_horizon = np.arange(1001)\n",
    "\n",
    "    else:\n",
    "        raise ValueError(\"No IRF parameters by the name '\" + curve_name + \"'.\")\n",
    "\n",
    "    irf_curve = [a[0]] * len(t_horizon)\n",
    "    for t in t_horizon:\n",
    "        for i in np.arange(1, len(a)):\n",
    "            irf_curve[t] = irf_curve[t] + (a[i] * np.exp(-t / tau[i]))\n",
    "    return irf_curve"
   ]
  },
  {
   "cell_type": "code",
   "execution_count": null,
   "id": "0115ad2b",
   "metadata": {},
   "outputs": [],
   "source": [
    "ipcc_2000 = get_irf_curve(\"ipcc_2000\")\n",
    "ipcc_2007 = get_irf_curve(\"ipcc_2007\")\n",
    "joos_2013 = get_irf_curve(\"joos_2013\")\n",
    "plt.plot(ipcc_2000, label=\"ipcc_2000\")\n",
    "plt.plot(ipcc_2007, label=\"ipcc_2007\")\n",
    "plt.plot(joos_2013, label=\"joos_2013\")\n",
    "plt.legend()"
   ]
  },
  {
   "cell_type": "markdown",
   "id": "33ba9aa1",
   "metadata": {},
   "source": [
    "# Ton-year accounting methods\n"
   ]
  },
  {
   "cell_type": "markdown",
   "id": "25052884",
   "metadata": {},
   "source": [
    "Some terms for interpreting the three ton-year accounting methods implemented\n",
    "below\n",
    "\n",
    "- _Baseline:_ the curve atmospheric state-of affairs that is assumed to be the\n",
    "  counterfaction to a project scenario\n",
    "- _Baseline atmospheric impact:_ the integral of the baseline curve\n",
    "- _Scenario:_ the curve representing what happens because of an intervention\n",
    "  (could be representing carbon in a stock or carbon in the atmosphere depending\n",
    "  on the method)\n",
    "- _Benefit:_ the reduction in atmospheric impact as a result of the scenario\n",
    "  intervention\n",
    "- _Equivalence factor:_ the ratio between the benefit and the atmospheric impact\n",
    "  of a single tCO2 released at t=0 under shared assumptions\n"
   ]
  },
  {
   "cell_type": "markdown",
   "id": "948c5188",
   "metadata": {},
   "source": [
    "Some helper functions:\n"
   ]
  },
  {
   "cell_type": "code",
   "execution_count": null,
   "id": "1b039e41",
   "metadata": {},
   "outputs": [],
   "source": [
    "def get_discounted_curve(discount_rate, curve):\n",
    "    return np.array(\n",
    "        [x / math.pow(1 + discount_rate, i) for i, x in enumerate(curve)]\n",
    "    )"
   ]
  },
  {
   "cell_type": "code",
   "execution_count": null,
   "id": "d2d6ec10",
   "metadata": {},
   "outputs": [],
   "source": [
    "def print_benefit_report(method_output, plot):\n",
    "    print()\n",
    "    print(\n",
    "        \"Discount rate: \"\n",
    "        + str(round(method_output[\"parameters\"][\"discount_rate\"] * 100, 1))\n",
    "        + \"%\"\n",
    "    )\n",
    "    print(\"Delay: \" + str(method_output[\"parameters\"][\"delay\"]) + \" year(s)\")\n",
    "    print(\n",
    "        \"Baseline atmospheric cost: \"\n",
    "        + str(round(method_output[\"baseline_atm_cost\"], 2))\n",
    "        + \" ton-years\"\n",
    "    )\n",
    "    print(\n",
    "        \"Benefit from 1tCO2 with delay: \"\n",
    "        + str(round(method_output[\"benefit\"], 2))\n",
    "        + \" ton-years\"\n",
    "    )\n",
    "    print(\n",
    "        \"Number needed: \" + str(round(method_output[\"num_for_equivalence\"], 1))\n",
    "    )\n",
    "    print()\n",
    "    if plot:\n",
    "        plot = plt.plot(method_output[\"baseline\"], label=\"baseline\")\n",
    "        plot = plt.plot(method_output[\"scenario\"], label=\"scenario\")\n",
    "        plot = plt.legend()"
   ]
  },
  {
   "cell_type": "markdown",
   "id": "f80db065",
   "metadata": {},
   "source": [
    "And a function implementing the three ton-year accounting set-ups:\n"
   ]
  },
  {
   "cell_type": "code",
   "execution_count": null,
   "id": "47acc1f6",
   "metadata": {},
   "outputs": [],
   "source": [
    "def calculate_tonyears(method, baseline, time_horizon, delay, discount_rate):\n",
    "\n",
    "    if delay < 0:\n",
    "        raise ValueError(\"Delay cannot be negative.\")\n",
    "    if time_horizon <= 0:\n",
    "        raise ValueError(\"Time horizon must be greater than zero.\")\n",
    "    if len(baseline) < time_horizon:\n",
    "        raise ValueError(\n",
    "            \"Method cannot analyze over a time horizon that is longer than the baseline scenario (i.e. the length of the baseline array).\"\n",
    "        )\n",
    "    if method not in [\"mc\", \"ipcc\", \"lashof\"]:\n",
    "        raise ValueError(\n",
    "            \"No ton-year accounting method called '\"\n",
    "            + method\n",
    "            + \"'. Options include: Moura-Costa ('mc'), Lashof ('lashof'), and IPCC ('ipcc').\"\n",
    "        )\n",
    "\n",
    "    # All methods calculate the baseline cost of emitting 1tCO2 at t=0 as the\n",
    "    # atmospheric ton-years incurred over the period 0<=t<=time_horizon.\n",
    "    time_horizon_timesteps = time_horizon + 1\n",
    "    baseline = baseline[:time_horizon_timesteps]\n",
    "    baseline_discounted = get_discounted_curve(discount_rate, baseline)\n",
    "    baseline_atm_cost = np.trapz(baseline_discounted)\n",
    "\n",
    "    if method == \"mc\":\n",
    "        # The Moura-Costa method calculates the ton-year benefit of a delayed emission\n",
    "        # as the ton-years of carbon storage outside of the atmosphere over the period\n",
    "        # 0<=t<=delay. Moura-Costa ignores the atmospheric impact of post-storage re-emission.\n",
    "        delay_timesteps = delay + 1\n",
    "        scenario = [-1] * (delay_timesteps) + [0] * (\n",
    "            len(baseline) - delay_timesteps\n",
    "        )\n",
    "        scenario = get_discounted_curve(discount_rate, scenario)\n",
    "        benefit = -np.trapz(scenario[:delay_timesteps])\n",
    "\n",
    "    elif method == \"ipcc\":\n",
    "        # The IPCC method calculates calculates the ton-year benefit of an emission at t=delay\n",
    "        # as the difference between the baseline atmospheric cost and the scenario atmospheric\n",
    "        # cost, which is calculated over the period delay<=t<=time_horizon.\n",
    "        scenario = [0] * delay + baseline\n",
    "        scenario = scenario[:time_horizon_timesteps]\n",
    "        scenario = get_discounted_curve(discount_rate, scenario)\n",
    "        benefit = baseline_atm_cost - np.trapz(scenario[delay:])\n",
    "\n",
    "    elif method == \"lashof\":\n",
    "        # The Lashof method calculates the ton-year benefit of an emission at t=delay\n",
    "        # as the atmospheric cost that no longer occurs within the time horizon. The\n",
    "        # benefit calculation is thus focused the period time_horizon<=t<=(time_horizon+delay).\n",
    "        scenario = [0] * delay + baseline\n",
    "        scenario = get_discounted_curve(discount_rate, scenario)\n",
    "        benefit = np.trapz(scenario[time_horizon:])\n",
    "\n",
    "    return {\n",
    "        \"parameters\": {\n",
    "            \"method\": method,\n",
    "            \"time_horizon\": time_horizon,\n",
    "            \"delay\": delay,\n",
    "            \"discount_rate\": discount_rate,\n",
    "        },\n",
    "        \"baseline\": baseline_discounted,\n",
    "        \"scenario\": scenario,\n",
    "        \"baseline_atm_cost\": baseline_atm_cost,\n",
    "        \"benefit\": benefit,\n",
    "        \"num_for_equivalence\": baseline_atm_cost / benefit,\n",
    "    }"
   ]
  },
  {
   "cell_type": "markdown",
   "id": "6a8bf925",
   "metadata": {},
   "source": [
    "### Moura-Costa method\n"
   ]
  },
  {
   "cell_type": "markdown",
   "id": "0cd9e767",
   "metadata": {},
   "source": [
    "Method referenced IPCC Special report (2000) with outputs to check against:\n",
    "https://archive.ipcc.ch/ipccreports/sres/land_use/index.php?idp=74\n",
    "\n",
    "Method also described in Moura Costa and Wilson, 2000:\n",
    "https://oxfordclimatepolicy.org/sites/default/files/10.1023%252FA_1009697625521.pdf\n"
   ]
  },
  {
   "cell_type": "code",
   "execution_count": null,
   "id": "044d99b0",
   "metadata": {},
   "outputs": [],
   "source": [
    "time_horizon = 100\n",
    "delay = 46\n",
    "baseline = ipcc_2000\n",
    "discount_rate = 0.0\n",
    "\n",
    "mm = calculate_tonyears(\"mc\", baseline, time_horizon, delay, discount_rate)\n",
    "print_benefit_report(mm, plot=True)\n",
    "\n",
    "t = np.arange(mm[\"parameters\"][\"time_horizon\"] + 1)\n",
    "plot = plt.fill_between(t, mm[\"baseline\"], alpha=0.2)\n",
    "plot = plt.fill_between(\n",
    "    t[: len(mm[\"scenario\"])],\n",
    "    mm[\"scenario\"],\n",
    "    where=(np.array(mm[\"scenario\"]) < 0),\n",
    "    alpha=0.4,\n",
    ")"
   ]
  },
  {
   "cell_type": "markdown",
   "id": "0c55f581",
   "metadata": {},
   "source": [
    "Baseline = 1 tCO2 atmospheric carbon released at t=0 <br/> Scenario = 1 tCO2\n",
    "stored outside of the atmosphere for delay<br/> Baseline atmospheric cost =\n",
    "(blue area) <br/> Benefit = (orange area) <br/> Number needed = how many orange\n",
    "areas are equivalent to the blue area? <br/> ** Assumes 0% re-emission ** <br/>\n"
   ]
  },
  {
   "cell_type": "markdown",
   "id": "f5d8b5af",
   "metadata": {},
   "source": [
    "### IPCC method\n"
   ]
  },
  {
   "cell_type": "markdown",
   "id": "83261b4e",
   "metadata": {},
   "source": [
    "Method described IPCC Special report, 2000:\n",
    "https://archive.ipcc.ch/ipccreports/sres/land_use/index.php?idp=74\n",
    "\n",
    "Conceptually distinct but numerically identical to Lashof method when\n",
    "discount_rate = 0\n"
   ]
  },
  {
   "cell_type": "code",
   "execution_count": null,
   "id": "dab41ed2",
   "metadata": {},
   "outputs": [],
   "source": [
    "time_horizon = 100\n",
    "delay = 46\n",
    "baseline = ipcc_2000\n",
    "discount_rate = 0.0\n",
    "\n",
    "i = calculate_tonyears(\"ipcc\", baseline, time_horizon, delay, discount_rate)\n",
    "print_benefit_report(i, plot=True)\n",
    "\n",
    "t = np.arange(i[\"parameters\"][\"time_horizon\"] + 1)\n",
    "plot = plt.fill_between(t, i[\"baseline\"], alpha=0.2)\n",
    "plot = plt.fill_between(\n",
    "    t, i[\"scenario\"], where=(t >= i[\"parameters\"][\"delay\"]), alpha=0.2\n",
    ")"
   ]
  },
  {
   "cell_type": "markdown",
   "id": "adc4feac",
   "metadata": {},
   "source": [
    "Baseline = 1 tCO2 released into atmospheric at t=0 <br/> Scenario = 1 tCO2\n",
    "released into atomosphere with delay <br/> Baseline atmospheric cost = (blue\n",
    "area) <br/> Benefit = (blue area) - (orange area) <br/> Number needed = how\n",
    "would you need to scale the \"benefit\" to equal to the blue area? <br/> **\n",
    "Assumes 100% re-emission **\n"
   ]
  },
  {
   "cell_type": "markdown",
   "id": "414efb99",
   "metadata": {},
   "source": [
    "### Lashof method\n"
   ]
  },
  {
   "cell_type": "markdown",
   "id": "3d11fab6",
   "metadata": {},
   "source": [
    "Method referenced IPCC Special report, 2000:\n",
    "https://archive.ipcc.ch/ipccreports/sres/land_use/index.php?idp=74\n",
    "\n",
    "And described in Fearnside, Lashof & Moura-Costa, 2000:\n",
    "https://link.springer.com/article/10.1023%2FA%3A1009625122628\n",
    "\n",
    "Conceptually distinct but numerically identical to IPCC method when\n",
    "discount_rate = 0\n"
   ]
  },
  {
   "cell_type": "code",
   "execution_count": null,
   "id": "65186b75",
   "metadata": {},
   "outputs": [],
   "source": [
    "time_horizon = 100\n",
    "delay = 46\n",
    "baseline = ipcc_2000\n",
    "discount_rate = 0.0\n",
    "\n",
    "l = calculate_tonyears(\"lashof\", baseline, time_horizon, delay, discount_rate)\n",
    "print_benefit_report(l, plot=True)\n",
    "\n",
    "t = np.arange(l[\"parameters\"][\"time_horizon\"] + l[\"parameters\"][\"delay\"] + 1)\n",
    "plot = plt.fill_between(t[: len(l[\"baseline\"])], l[\"baseline\"], alpha=0.2)\n",
    "plot = plt.fill_between(\n",
    "    t, l[\"scenario\"], where=(t >= l[\"parameters\"][\"time_horizon\"]), alpha=0.2\n",
    ")"
   ]
  },
  {
   "cell_type": "markdown",
   "id": "3adf01b5",
   "metadata": {},
   "source": [
    "Baseline = 1 tCO2 released into atmospheric at t=0 <br/> Scenario = 1 tCO2\n",
    "released into atomosphere with delay <br/> Baseline atmospheric cost = (blue\n",
    "area) Benefit = (orange area) = atmospheric cost no longer occuring w/in the\n",
    "time horizon <br/> Number needed = how many orange areas would you need to equal\n",
    "the blue area?<br/> ** Assumes 100% re-emission **\n"
   ]
  },
  {
   "cell_type": "markdown",
   "id": "f9f16497",
   "metadata": {},
   "source": [
    "# Methods x Delay\n"
   ]
  },
  {
   "cell_type": "code",
   "execution_count": null,
   "id": "0a7e7803",
   "metadata": {},
   "outputs": [],
   "source": [
    "time_horizon = 100\n",
    "baseline = ipcc_2000\n",
    "# delay = 1\n",
    "discount_rate = 0.0\n",
    "\n",
    "for method in [\"mc\", \"ipcc\", \"lashof\"]:\n",
    "    num_needed = []\n",
    "    for delay in np.arange(1, 100):\n",
    "        num_needed.append(\n",
    "            1\n",
    "            / calculate_tonyears(\n",
    "                method, baseline, time_horizon, delay, discount_rate\n",
    "            )[\"num_for_equivalence\"]\n",
    "        )\n",
    "    plt.plot(num_needed, label=method)\n",
    "\n",
    "plt.xlabel(\"delay\")\n",
    "plt.ylabel(\"1 / num_needed\")\n",
    "plt.legend()"
   ]
  },
  {
   "cell_type": "markdown",
   "id": "be72a3c2",
   "metadata": {},
   "source": [
    "# Methods x Time Horizon\n"
   ]
  },
  {
   "cell_type": "code",
   "execution_count": null,
   "id": "b0d412eb",
   "metadata": {},
   "outputs": [],
   "source": [
    "# time_horizon = 100\n",
    "baseline = ipcc_2000\n",
    "delay = 1\n",
    "discount_rate = 0.0\n",
    "\n",
    "for method in [\"mc\", \"ipcc\", \"lashof\"]:\n",
    "    num_needed = []\n",
    "    for time_horizon in np.arange(100, 1000):\n",
    "        num_needed.append(\n",
    "            1\n",
    "            / calculate_tonyears(\n",
    "                method, baseline, time_horizon, delay, discount_rate\n",
    "            )[\"num_for_equivalence\"]\n",
    "        )\n",
    "    plt.plot(num_needed, label=method)\n",
    "\n",
    "plt.xlabel(\"time horizon\")\n",
    "plt.ylabel(\"number needed\")\n",
    "plt.legend()"
   ]
  },
  {
   "cell_type": "markdown",
   "id": "0cee1c87",
   "metadata": {},
   "source": [
    "# Methods x Discounting\n"
   ]
  },
  {
   "cell_type": "markdown",
   "id": "12e728a2",
   "metadata": {},
   "source": [
    "Lashof excluded in the graph below as it is highly sensitive to discounting and\n",
    "blows up as discount rate increases\n"
   ]
  },
  {
   "cell_type": "code",
   "execution_count": null,
   "id": "1de11985",
   "metadata": {},
   "outputs": [],
   "source": [
    "time_horizon = 100\n",
    "baseline = ipcc_2000\n",
    "delay = 1\n",
    "# discount_rate = 0.0\n",
    "\n",
    "d = np.linspace(0, 0.1, 30)\n",
    "for method in [\"mc\", \"ipcc\", \"lashof\"]:\n",
    "    num_needed = []\n",
    "    for discount_rate in d:\n",
    "        num_needed.append(\n",
    "            1\n",
    "            / calculate_tonyears(\n",
    "                method, baseline, time_horizon, delay, discount_rate\n",
    "            )[\"num_for_equivalence\"]\n",
    "        )\n",
    "    plt.plot(d, num_needed, label=method)\n",
    "\n",
    "plt.xlabel(\"discount rate\")\n",
    "plt.ylabel(\"1/number needed\")\n",
    "plt.legend()"
   ]
  },
  {
   "cell_type": "markdown",
   "id": "eda45ce6",
   "metadata": {},
   "source": [
    "### Cost sensitivity\n"
   ]
  },
  {
   "cell_type": "markdown",
   "id": "2da16122",
   "metadata": {},
   "source": [
    "Imagine a carbon credit is \\$10/tCO2, where a 'tCO2' is a handful of ton-years\n",
    "packaged up according to the a ton-year accounting methodology. As a baseline,\n",
    "let imagine the methodology applied results in a favorable (i.e. low) ratio of\n",
    "ton-years needed to be 'equivalent' to the impacts of an emitted tCO2.\n"
   ]
  },
  {
   "cell_type": "code",
   "execution_count": null,
   "id": "f519021e",
   "metadata": {},
   "outputs": [],
   "source": [
    "time_horizon = 100\n",
    "baseline = ipcc_2000\n",
    "delay = 1\n",
    "discount_rate = 0.03\n",
    "\n",
    "cost_per_ton = 10\n",
    "\n",
    "x = calculate_tonyears(\"mc\", baseline, time_horizon, delay, discount_rate)\n",
    "ton_year_cost = cost_per_ton / x[\"baseline_atm_cost\"]\n",
    "print(\"Cost per ton-year: $\" + str(round(ton_year_cost, 2)))\n",
    "print(\n",
    "    \"Cost of permanent ton: $\"\n",
    "    + str(round(ton_year_cost * x[\"num_for_equivalence\"]))\n",
    ")"
   ]
  },
  {
   "cell_type": "markdown",
   "id": "5aa2f4f3",
   "metadata": {},
   "source": [
    "If the cost/ton-year reflects a true cost of taking an action today, we can ask\n",
    "how the cost of a buying a 'equivalent tCO2' via ton-years today changes as we\n",
    "change the method or parameters:\n"
   ]
  },
  {
   "cell_type": "code",
   "execution_count": null,
   "id": "d8ea4256",
   "metadata": {},
   "outputs": [],
   "source": [
    "time_horizon = 1000\n",
    "baseline = joos_2013\n",
    "delay = 1\n",
    "discount_rate = 0.00\n",
    "\n",
    "y = calculate_tonyears(\"ipcc\", baseline, time_horizon, delay, discount_rate)\n",
    "print_benefit_report(y, False)\n",
    "print(\"Cost per ton-year: $\" + str(round(ton_year_cost, 2)))\n",
    "print(\n",
    "    \"Cost of permanent ton: $\"\n",
    "    + str(round(ton_year_cost * y[\"num_for_equivalence\"], 2))\n",
    ")"
   ]
  }
 ],
 "metadata": {
  "kernelspec": {
   "display_name": "Python [conda env:notebook] *",
   "language": "python",
   "name": "conda-env-notebook-py"
  },
  "language_info": {
   "codemirror_mode": {
    "name": "ipython",
    "version": 3
   },
   "file_extension": ".py",
   "mimetype": "text/x-python",
   "name": "python",
   "nbconvert_exporter": "python",
   "pygments_lexer": "ipython3",
   "version": "3.8.10"
  }
 },
 "nbformat": 4,
 "nbformat_minor": 5
}
