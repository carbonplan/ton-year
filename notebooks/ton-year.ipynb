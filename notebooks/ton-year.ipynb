{
 "cells": [
  {
   "cell_type": "markdown",
   "id": "c0ca5b9a-6c2c-4119-a6dd-5ec4ef529bd4",
   "metadata": {},
   "source": [
    "<img width=\"100\" src=\"https://carbonplan-assets.s3.amazonaws.com/monogram/dark-small.png\" style=\"margin-left:0px;margin-top:20px\"/>\n",
    "\n",
    "# Ton-year accounting\n",
    "\n",
    "_by Freya Chay (CarbonPlan)_\n",
    "\n",
    "This notebook introduces `ton-year` Python package and walks through how it can be used to compare\n",
    "different ton-year accounting methods.\n"
   ]
  },
  {
   "cell_type": "code",
   "execution_count": null,
   "id": "611e18a6",
   "metadata": {},
   "outputs": [],
   "source": [
    "%load_ext watermark\n",
    "%matplotlib inline\n",
    "\n",
    "import math\n",
    "\n",
    "import numpy as np\n",
    "import matplotlib.pyplot as plt\n",
    "\n",
    "import tonyear\n",
    "\n",
    "from carbonplan import styles\n",
    "\n",
    "styles.mpl.set_theme(style=\"carbonplan_light\", font_scale=1.25)"
   ]
  },
  {
   "cell_type": "code",
   "execution_count": null,
   "id": "7d79990e-61f5-464d-9a63-fd02f28d36b5",
   "metadata": {},
   "outputs": [],
   "source": [
    "%watermark -u -i -v -m -g -iv"
   ]
  },
  {
   "cell_type": "markdown",
   "id": "ba50c572",
   "metadata": {},
   "source": [
    "## Carbon Impulse Response Function (i.e. the baseline curve)\n",
    "\n",
    "An Impulse Reponse Function (IRF) represents the time-dependent fraction of an emission pulse\n",
    "remaining in the atmosphere at time t. It is usually approximated by a sum of exponentials:\n",
    "\n",
    "$ IRF_x(t) = a_{x,0} + \\sum_{i=1}^{3} a_{x,i} * e^{-t / tau_i} $\n",
    "\n",
    "The $a$ and $tau$ parameters for CO2 can be taken from literature:\n",
    "\n",
    "- Joos, F., Roth, R., Fuglestvedt, J. S., Peters, G. P., Enting, I. G., von Bloh, W., Brovkin, V.,\n",
    "  Burke, E. J., Eby, M., Edwards, N. R., Friedrich, T., Frölicher, T. L., Halloran, P. R., Holden,\n",
    "  P. B., Jones, C., Kleinen, T., Mackenzie, F. T., Matsumoto, K., Meinshausen, M., Plattner, G.-K.,\n",
    "  Reisinger, A., Segschneider, J., Shaffer, G., Steinacher, M., Strassmann, K., Tanaka, K.,\n",
    "  Timmermann, A., and Weaver, A. J.: Carbon dioxide and climate impulse response functions for the\n",
    "  computation of greenhouse gas metrics: a multi-model analysis, Atmos. Chem. Phys., 13, 2793–2825,\n",
    "  https://doi.org/10.5194/acp-13-2793-2013, 2013.\n",
    "\n",
    "* Forster, P., V. Ramaswamy, P. Artaxo, T. Berntsen, R. Betts, D.W. Fahey, J. Haywood, J. Lean, D.C.\n",
    "  Lowe, G. Myhre, J. Nganga, R. Prinn, G. Raga, M. Schulz and R. Van Dorland, 2007: Changes in\n",
    "  Atmospheric Constituents and in Radiative Forcing. In: Climate Change 2007: The Physical Science\n",
    "  Basis. Contribution of Working Group I to the Fourth Assessment Report of the Intergovernmental\n",
    "  Panel on Climate Change [Solomon, S., D. Qin, M. Manning, Z. Chen, M. Marquis, K.B. Averyt,\n",
    "  M.Tignor and H.L. Miller (eds.)]:\n",
    "  https://www.ipcc.ch/site/assets/uploads/2018/02/ar4-wg1-chapter2-1.pdf (pg. 213)\n",
    "\n",
    "- IPCC: Special Report on Land Use, Land‐Use Change, and Forestry, Section 2.3.6.3, 2000,\n",
    "  https://archive.ipcc.ch/ipccreports/sres/land_use/index.php?idp=74 and footnote\n",
    "  https://archive.ipcc.ch/ipccreports/sres/land_use/fn3.htm#4\n",
    "\n",
    "See our 'overview' in the documentation for the tonyear module for a more in-depth discussion of IRF\n",
    "curves.\n"
   ]
  },
  {
   "cell_type": "code",
   "execution_count": null,
   "id": "218972c2",
   "metadata": {},
   "outputs": [],
   "source": [
    "ipcc_2000 = tonyear.get_baseline_curve(\"ipcc_2000\")\n",
    "ipcc_2007 = tonyear.get_baseline_curve(\"ipcc_2007\")\n",
    "joos_2013 = tonyear.get_baseline_curve(\"joos_2013\")\n",
    "plt.plot(ipcc_2000, label=\"ipcc_2000\")\n",
    "plt.plot(ipcc_2007, label=\"ipcc_2007\")\n",
    "plt.plot(joos_2013, label=\"joos_2013\")\n",
    "_ = plt.legend()"
   ]
  },
  {
   "cell_type": "markdown",
   "id": "b15ff8b3",
   "metadata": {},
   "source": [
    "## Ton-year accounting methods\n",
    "\n",
    "The ton-year module calculates the benefit of a delayed emission according one of two ton-year\n",
    "accounting methods: Moura Costa or Lashof. Examples of both of these methods are shown below.\n",
    "\n",
    "### Parameters\n",
    "\n",
    "- method : (str) The ton-year accounting method (Moura Costa: 'mc', or Lashof: 'lashof')\n",
    "- baseline : (np.ndarray) Array modeling the residence of an emission in the atmosphere over time,\n",
    "  i.e. a decay curve / impulse response function\n",
    "- time_horizon : (int) Specifies the period over which the impact of an emission is considered\n",
    "  (years)\n",
    "- delay : (int) Specifies the emission delay for which a ton-year benefit will be calculated (years)\n",
    "- discount_rate : (float) Specifies the discount rate to apply time preference to both costs and\n",
    "  benefits over the time horizon\n",
    "\n",
    "See our 'overview' in the documentation for the tonyear module for a more in-depth discussion of\n",
    "these parameters.\n",
    "\n",
    "### Returns\n",
    "\n",
    "- method_dict : (dict) Dictionary with the following keys: parameters: key parameters used for the\n",
    "  calculation baseline: array modeling baseline emission curve (discounted if applicable) scenario:\n",
    "  array modeling the scenario curve (discounted if applicable) baseline_atm_cost: the cost of of a\n",
    "  baseline emission (ton-years) benefit: the benefit of delaying an emission, calculated according\n",
    "  to specified accounting method (ton-years) num_for_equivalence: the ratio between the baseline\n",
    "  cost and the benefit\n"
   ]
  },
  {
   "cell_type": "markdown",
   "id": "195377ea",
   "metadata": {},
   "source": [
    "## Moura-Costa\n",
    "\n",
    "Moura Costa calculates the benefit of carbon storage in the most straightforward way possible: count\n",
    "up the number of tons stored and multiply by the storage duration. In other words, Moura Costa looks\n",
    "at the carbon-storage, but does not does not directly quantify atmospheric outcomes nor consider the\n",
    "potential impact of re-emission after the temporary storage period.\n",
    "\n",
    "The Moura Costa ton year accounting method is described in Moura Costa and Wilson, 2000:\n",
    "https://oxfordclimatepolicy.org/sites/default/files/10.1023%252FA_1009697625521.pdf\n",
    "\n",
    "Method is also referenced in the IPCC Special Report (2000):\n",
    "https://archive.ipcc.ch/ipccreports/sres/land_use/index.php?idp=74\n",
    "\n",
    "We show an example of the tonyear module's Moura Costa ton-year calculation below, using the\n",
    "parameters from the IPCC Special Report.\n"
   ]
  },
  {
   "cell_type": "code",
   "execution_count": null,
   "id": "6b04ded1",
   "metadata": {},
   "outputs": [],
   "source": [
    "time_horizon = 100\n",
    "delay = 46\n",
    "baseline = ipcc_2000\n",
    "discount_rate = 0.0\n",
    "\n",
    "mm = tonyear.calculate_tonyears(\"mc\", baseline, time_horizon, delay, discount_rate)"
   ]
  },
  {
   "cell_type": "markdown",
   "id": "d3c7df16",
   "metadata": {},
   "source": [
    "With the output dictionary returned by the calculate_tonyears method, we can print a benefit report\n",
    "to quickly summarize the outputs of the calculation:recreate the visualizations used to anchor\n",
    "explanations of the Moura Costa method in literature.\n"
   ]
  },
  {
   "cell_type": "code",
   "execution_count": null,
   "id": "0c0ef3c4",
   "metadata": {},
   "outputs": [],
   "source": [
    "tonyear.print_benefit_report(mm)"
   ]
  },
  {
   "cell_type": "markdown",
   "id": "0f640a30",
   "metadata": {},
   "source": [
    "We can also use the output dictionary to recreate the visualizations used to anchor explanations of\n",
    "the Moura Costa method in literature.\n"
   ]
  },
  {
   "cell_type": "code",
   "execution_count": null,
   "id": "452deddf",
   "metadata": {},
   "outputs": [],
   "source": [
    "t = np.arange(mm[\"parameters\"][\"time_horizon\"] + 1)\n",
    "plot = plt.fill_between(\n",
    "    t,\n",
    "    mm[\"baseline\"],\n",
    "    color=\"red\",\n",
    "    alpha=0.2,\n",
    "    label=\"ton-year cost of emitting 1tCO2\",\n",
    ")\n",
    "plot = plt.fill_between(\n",
    "    t[: len(mm[\"scenario\"])],\n",
    "    mm[\"scenario\"],\n",
    "    where=(np.array(mm[\"scenario\"]) < 0),\n",
    "    color=\"green\",\n",
    "    alpha=0.2,\n",
    "    label=\"ton-year benefit of temporarily storing 1tCO2\",\n",
    ")\n",
    "_ = plt.legend(loc=\"lower center\", bbox_to_anchor=(0.5, -0.4))"
   ]
  },
  {
   "cell_type": "markdown",
   "id": "aae63fbf",
   "metadata": {},
   "source": [
    "According to the Moura Costa method, the benefit of the temporary storage is simply the ton-years\n",
    "represented by the green rectangle in the figure above. The green area is compared to the red area\n",
    "to determine the equivalency ratio, or in other words, the number of tCO2 stored for the specified\n",
    "delay to produce an \"equivalent\" climate outcome as the emission. See our\n",
    "[ton-year explainer](https://carbonplan.org/research/ton-year-explainer) for further discussion\n",
    "about the shortcomings of this approach. In short, it is our opinion that the claims made by the\n",
    "Moura Costa method are not physically credible and that the method should not be used to establish\n",
    "climate-equivalency claims or issue carbon offsets. Since the method is in use and poised for\n",
    "expansion, we include it in the module.\n"
   ]
  },
  {
   "cell_type": "markdown",
   "id": "424cf858",
   "metadata": {},
   "source": [
    "## Lashof\n",
    "\n",
    "Lashof looks only at the atmospheric outcomes and assumes that the temporarily stored carbon is\n",
    "fully re-emitted at the end of the storage period. Lashof’s benefit calculation asks how many\n",
    "ton-years of atmospheric impact are avoided within the specified time horizon.\n",
    "\n",
    "The method is described in Fearnside, Lashof & Moura-Costa, 2000:\n",
    "https://link.springer.com/article/10.1023%2FA%3A1009625122628\n",
    "\n",
    "Method is also referenced IPCC Special report, 2000:\n",
    "https://archive.ipcc.ch/ipccreports/sres/land_use/index.php?idp=74\n",
    "\n",
    "We show an example of the tonyear module's Moura Costa ton-year calculation below, using the\n",
    "parameters from the IPCC Special Report.\n"
   ]
  },
  {
   "cell_type": "code",
   "execution_count": null,
   "id": "7a5698c0",
   "metadata": {},
   "outputs": [],
   "source": [
    "time_horizon = 100\n",
    "delay = 46\n",
    "baseline = ipcc_2000\n",
    "discount_rate = 0.0\n",
    "\n",
    "l = tonyear.calculate_tonyears(\"lashof\", baseline, time_horizon, delay, discount_rate)"
   ]
  },
  {
   "cell_type": "code",
   "execution_count": null,
   "id": "4dcaaa31",
   "metadata": {},
   "outputs": [],
   "source": [
    "tonyear.print_benefit_report(l)"
   ]
  },
  {
   "cell_type": "code",
   "execution_count": null,
   "id": "22fa4119",
   "metadata": {},
   "outputs": [],
   "source": [
    "t = np.arange(l[\"parameters\"][\"time_horizon\"] + 1)\n",
    "plot = plt.fill_between(\n",
    "    t,\n",
    "    l[\"baseline\"],\n",
    "    color=\"red\",\n",
    "    alpha=0.2,\n",
    "    label=\"ton-year cost of emitting 1tCO2\",\n",
    ")\n",
    "plot = plt.fill_between(\n",
    "    t,\n",
    "    l[\"scenario\"],\n",
    "    where=(t >= l[\"parameters\"][\"delay\"]),\n",
    "    color=\"orange\",\n",
    "    alpha=0.4,\n",
    "    label=\"ton-year cost of emitting 1tCO2 after temporary storage period\",\n",
    ")\n",
    "_ = plt.legend(loc=\"lower center\", bbox_to_anchor=(0.5, -0.4))"
   ]
  },
  {
   "cell_type": "markdown",
   "id": "edc985e7",
   "metadata": {},
   "source": [
    "Lashof calculated the benefit of temporary storage as the difference between the red area (the\n",
    "ton-year cost of the emission) and the orange area (the ton-year cost of re-emitting 1tCO2 after a\n",
    "temporary storage period). This benefit calculation is thus based on the conservative assumption\n",
    "that carbon is fully re-emitted after the temporary storage period.\n",
    "\n",
    "This benefit calculation is often visualized as shown below. In this visualization of Lashof, the\n",
    "the post-storage emission is simply the baseline emission shifted over to account for the temporary\n",
    "storage period. The post-storage emission thus extends past the time-horizon by {{delay}} years. The\n",
    "area of sticking out past the time horizon is equivalent to the ton-years of atmospheric impact that\n",
    "are avoided within the specified time horizon.\n",
    "\n",
    "These two methods for visualizing and calculating the Lashof benefit are equivalent in the absence\n",
    "of a discount rate.\n"
   ]
  },
  {
   "cell_type": "code",
   "execution_count": null,
   "id": "4a40c88c",
   "metadata": {},
   "outputs": [],
   "source": [
    "t = np.arange(l[\"parameters\"][\"time_horizon\"] + l[\"parameters\"][\"delay\"] + 1)\n",
    "plot = plt.plot(l[\"baseline\"], color=\"red\", alpha=0.4, label=\"baseline emission\")\n",
    "\n",
    "final_storage_year = l[\"parameters\"][\"delay\"] - 1\n",
    "shifted_baseline = np.concatenate((np.zeros(l[\"parameters\"][\"delay\"]), l[\"baseline\"]))\n",
    "\n",
    "plot = plt.plot(\n",
    "    t[final_storage_year:],\n",
    "    shifted_baseline[final_storage_year:],\n",
    "    color=\"orange\",\n",
    "    label=\"emission of 1tCO2 after temporary storage period\",\n",
    ")\n",
    "\n",
    "plot = plt.fill_between(\n",
    "    t[l[\"parameters\"][\"time_horizon\"] :],\n",
    "    shifted_baseline[100:],\n",
    "    color=\"green\",\n",
    "    alpha=0.2,\n",
    "    label=\"ton-year benefit of temporarily storing 1tCO2\",\n",
    ")\n",
    "\n",
    "plt.xlim(0)\n",
    "_ = plt.legend(loc=\"lower center\", bbox_to_anchor=(0.5, -0.5))"
   ]
  }
 ],
 "metadata": {
  "kernelspec": {
   "display_name": "Python [conda env:notebook] *",
   "language": "python",
   "name": "conda-env-notebook-py"
  },
  "language_info": {
   "codemirror_mode": {
    "name": "ipython",
    "version": 3
   },
   "file_extension": ".py",
   "mimetype": "text/x-python",
   "name": "python",
   "nbconvert_exporter": "python",
   "pygments_lexer": "ipython3",
   "version": "3.9.9"
  }
 },
 "nbformat": 4,
 "nbformat_minor": 5
}
