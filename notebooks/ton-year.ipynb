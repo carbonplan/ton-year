{
 "cells": [
  {
   "cell_type": "code",
   "execution_count": 1,
   "id": "68ba2be0",
   "metadata": {},
   "outputs": [],
   "source": [
    "%matplotlib inline\n",
    "\n",
    "import math\n",
    "\n",
    "import numpy as np\n",
    "import matplotlib.pyplot as plt"
   ]
  },
  {
   "cell_type": "markdown",
   "id": "df5db56a",
   "metadata": {},
   "source": [
    "# Carbon Impulse Response Function (i.e. the baseline curve)"
   ]
  },
  {
   "cell_type": "markdown",
   "id": "bf2e1ef0",
   "metadata": {},
   "source": [
    "This section models two Impulse Reponse Functions (IRFs). An IRF represents the time-dependent fraction of an  emission pulse remaining in the atmosphere at time t. It is usually approximated by a sum of exponentials:\n",
    "\n",
    "$ IRF_x(t) = a_{x,0} + \\sum_{i=1}^{3} a_{x,i} * e^{-t / tau_i} $\n",
    "\n",
    "You can read more about IRFs here: https://www.ipcc.ch/site/assets/uploads/2018/07/WGI_AR5.Chap_.8_SM.pdf \n",
    "\n",
    "\n",
    "The $a$ and $tau$ parameters for CO2 can be taken from literature: \n",
    "\n",
    "- Joos, F., Roth, R., Fuglestvedt, J. S., Peters, G. P., Enting, I. G., von Bloh, W., Brovkin, V., Burke, E. J., Eby, M., Edwards, N. R., Friedrich, T., Frölicher, T. L., Halloran, P. R., Holden, P. B., Jones, C., Kleinen, T., Mackenzie, F. T., Matsumoto, K., Meinshausen, M., Plattner, G.-K., Reisinger, A., Segschneider, J., Shaffer, G., Steinacher, M., Strassmann, K., Tanaka, K., Timmermann, A., and Weaver, A. J.: Carbon dioxide and climate impulse response functions for the computation of greenhouse gas metrics: a multi-model analysis, Atmos. Chem. Phys., 13, 2793–2825, https://doi.org/10.5194/acp-13-2793-2013, 2013.\n",
    "\n",
    "\n",
    "- Forster, P., V. Ramaswamy, P. Artaxo, T. Berntsen, R. Betts, D.W. Fahey, J. Haywood, J. Lean, D.C. Lowe, G. Myhre, J. Nganga, R. Prinn, G. Raga, M. Schulz and R. Van Dorland, 2007: Changes in Atmospheric Constituents and in Radiative Forcing. In: Climate Change 2007: The Physical Science Basis. Contribution of Working Group I to the Fourth Assessment Report of the Intergovernmental Panel on Climate Change [Solomon, S., D. Qin, M. Manning, Z. Chen, M. Marquis, K.B. Averyt, M.Tignor and H.L. Miller (eds.)]: https://www.ipcc.ch/site/assets/uploads/2018/02/ar4-wg1-chapter2-1.pdf (pg. 213)\n",
    "\n",
    "\n",
    "- IPCC: Special Report on Land Use, Land‐Use Change, and Forestry, Section 2.3.6.3, 2000, https://archive.ipcc.ch/ipccreports/sres/land_use/index.php?idp=74 and footnote https://archive.ipcc.ch/ipccreports/sres/land_use/fn3.htm#4\n"
   ]
  },
  {
   "cell_type": "code",
   "execution_count": 2,
   "id": "de7a207e",
   "metadata": {},
   "outputs": [],
   "source": [
    "def get_irf_curve(curve_name):\n",
    "    \n",
    "    if curve_name == 'joos_2013':\n",
    "        # parameters from Joos et al., 2013 (Table 5) \n",
    "        # https://doi.org/10.5194/acp-13-2793-2013\n",
    "        a = [0.2173, 0.2240, 0.2824, 0.2763]\n",
    "        tau = [0, 394.4, 36.54, 4.304]\n",
    "        t_horizon = np.arange(1001)\n",
    "        \n",
    "    elif curve_name == 'ipcc_2007':\n",
    "        # parameters from IPCC AR4 2007 (Chapter 2, page 213)\n",
    "        # https://www.ipcc.ch/site/assets/uploads/2018/02/ar4-wg1-chapter2-1.pdf\n",
    "        a = [0.217, 0.259, 0.338, 0.186]\n",
    "        tau = [0, 172.9, 18.51, 1.186]\n",
    "        t_horizon = np.arange(1001)\n",
    "        \n",
    "    elif curve_name == 'ipcc_2000':\n",
    "        # parameters from IPCC Land Use, Land-Use Change and Forestry Special Report 2000 (Chapter 2.3.6.3, Footnote 4) \n",
    "        # https://archive.ipcc.ch/ipccreports/sres/land_use/index.php?idp=74\n",
    "        a = [0.175602, 0.137467, 0.18576, 0.242302, 0.258868]\n",
    "        tau = [0, 421.093, 70.5965, 21.42165, 3.41537]\n",
    "        t_horizon = np.arange(1001)\n",
    "        \n",
    "    else:\n",
    "        raise ValueError('No IRF parameters by the name \\'' + curve_name + '\\'.')  \n",
    "\n",
    "    irf_curve = [a[0]] * len(t_horizon)\n",
    "    for t in t_horizon:\n",
    "        for i in np.arange(1,len(a)):\n",
    "            irf_curve[t] =  irf_curve[t] + (a[i] * np.exp(-t/tau[i]))\n",
    "    return irf_curve"
   ]
  },
  {
   "cell_type": "code",
   "execution_count": 3,
   "id": "d9a7a368",
   "metadata": {},
   "outputs": [
    {
     "data": {
      "text/plain": [
       "<matplotlib.legend.Legend at 0x7fa440bbf5e0>"
      ]
     },
     "execution_count": 3,
     "metadata": {},
     "output_type": "execute_result"
    },
    {
     "data": {
      "image/png": "[encoded data removed]",
      "text/plain": [
       "<Figure size 432x288 with 1 Axes>"
      ]
     },
     "metadata": {
      "needs_background": "light"
     },
     "output_type": "display_data"
    }
   ],
   "source": [
    "ipcc_2000 = get_irf_curve('ipcc_2000')\n",
    "ipcc_2007 = get_irf_curve('ipcc_2007')\n",
    "joos_2013 = get_irf_curve('joos_2013')\n",
    "plt.plot(ipcc_2000, label='ipcc_2000')\n",
    "plt.plot(ipcc_2007, label='ipcc_2007')\n",
    "plt.plot(joos_2013, label='joos_2013')\n",
    "plt.legend()"
   ]
  },
  {
   "cell_type": "markdown",
   "id": "58af5f1a",
   "metadata": {},
   "source": [
    "# Ton-year accounting methods"
   ]
  },
  {
   "cell_type": "markdown",
   "id": "fdb3cae8",
   "metadata": {},
   "source": [
    "Some terms for interpreting the three ton-year accounting methods implemented below\n",
    "\n",
    "- *Baseline:* the curve atmospheric state-of affairs that is assumed to be the counterfaction to a project scenario\n",
    "- *Baseline atmospheric impact:* the integral of the baseline curve\n",
    "- *Scenario:* the curve representing what happens because of an intervention (could be representing carbon in a stock or carbon in the atmosphere depending on the method)\n",
    "- *Benefit:* the reduction in atmospheric impact as a result of the scenario intervention \n",
    "- *Equivalence factor:* the ratio between the benefit and the atmospheric impact of a single tCO2 released at t=0 under shared assumptions\n"
   ]
  },
  {
   "cell_type": "markdown",
   "id": "fc876540",
   "metadata": {},
   "source": [
    "Some helper functions:"
   ]
  },
  {
   "cell_type": "code",
   "execution_count": 6,
   "id": "cf86550e",
   "metadata": {},
   "outputs": [],
   "source": [
    "def get_discounted_curve(discount_rate, curve): \n",
    "    return np.array([x/math.pow(1+discount_rate, i) for i,x in enumerate(curve)])"
   ]
  },
  {
   "cell_type": "code",
   "execution_count": 7,
   "id": "682af1c4",
   "metadata": {},
   "outputs": [],
   "source": [
    "def print_benefit_report(method_output, plot):\n",
    "    print()\n",
    "    print('Discount rate: ' + str(round(method_output['parameters']['discount_rate']*100,1)) + '%')\n",
    "    print('Delay: ' + str(method_output['parameters']['delay']) + ' year(s)')\n",
    "    print('Baseline atmospheric cost: ' + str(round(method_output['baseline_atm_cost'],2)) + ' ton-years')\n",
    "    print('Benefit from 1tCO2 with delay: ' + str(round(method_output['benefit'],2)) + ' ton-years')\n",
    "    print('Number needed: ' + str(round(method_output['num_for_equivalence'],1)))\n",
    "    print()\n",
    "    if plot: \n",
    "        plot = plt.plot(method_output['baseline'], label=\"baseline\")\n",
    "        plot = plt.plot(method_output['scenario'], label=\"scenario\")\n",
    "        plot = plt.legend()"
   ]
  },
  {
   "cell_type": "markdown",
   "id": "1087d0af",
   "metadata": {},
   "source": [
    "And a function implementing the three ton-year accounting set-ups:"
   ]
  },
  {
   "cell_type": "code",
   "execution_count": 8,
   "id": "4807bab5",
   "metadata": {},
   "outputs": [],
   "source": [
    "def calculate_tonyears(method, baseline, time_horizon, delay, discount_rate):\n",
    "    \n",
    "    if delay < 0: \n",
    "        raise ValueError('Delay cannot be negative.')\n",
    "    if time_horizon <= 0:\n",
    "        raise ValueError('Time horizon must be greater than zero.')\n",
    "    if len(baseline) < time_horizon:\n",
    "        raise ValueError('Method cannot analyze over a time horizon that is longer than the baseline scenario (i.e. the length of the baseline array).')\n",
    "    if method not in ['mc', 'ipcc', 'lashof']:\n",
    "        raise ValueError('No ton-year accounting method called \\'' + method + '\\'. Options include: Moura-Costa (\\'mc\\'), Lashof (\\'lashof\\'), and IPCC (\\'ipcc\\').')\n",
    "    \n",
    "    \n",
    "    # All methods calculate the baseline cost of emitting 1tCO2 at t=0 as the \n",
    "    # atmospheric ton-years incurred over the period 0<=t<=time_horizon. \n",
    "    time_horizon_timesteps = time_horizon + 1\n",
    "    baseline = baseline[:time_horizon_timesteps]\n",
    "    baseline_discounted = get_discounted_curve(discount_rate, baseline)\n",
    "    baseline_atm_cost = np.trapz(baseline_discounted)\n",
    "\n",
    "    if method == 'mc':\n",
    "        # The Moura-Costa method calculates the ton-year benefit of a delayed emission\n",
    "        # as the ton-years of carbon storage outside of the atmosphere over the period\n",
    "        # 0<=t<=delay. Moura-Costa ignores the atmospheric impact of post-storage re-emission.  \n",
    "        delay_timesteps = delay + 1\n",
    "        scenario = [-1]*(delay_timesteps) + [0]*(len(baseline) - delay_timesteps)\n",
    "        scenario = get_discounted_curve(discount_rate, scenario)\n",
    "        benefit = -np.trapz(scenario[:delay_timesteps])\n",
    "        \n",
    "    elif method == 'ipcc':\n",
    "        # The IPCC method calculates calculates the ton-year benefit of an emission at t=delay\n",
    "        # as the difference between the baseline atmospheric cost and the scenario atmospheric\n",
    "        # cost, which is calculated over the period delay<=t<=time_horizon. \n",
    "        scenario = [0]*delay + baseline\n",
    "        scenario = scenario[:time_horizon_timesteps]\n",
    "        scenario = get_discounted_curve(discount_rate, scenario)\n",
    "        benefit = baseline_atm_cost - np.trapz(scenario[delay:])\n",
    "        \n",
    "    elif method == 'lashof':\n",
    "        # The Lashof method calculates the ton-year benefit of an emission at t=delay\n",
    "        # as the atmospheric cost that no longer occurs within the time horizon. The \n",
    "        # benefit calculation is thus focused the period time_horizon<=t<=(time_horizon+delay). \n",
    "        scenario = [0]*delay + baseline\n",
    "        scenario = get_discounted_curve(discount_rate, scenario)\n",
    "        benefit = np.trapz(scenario[time_horizon:])  \n",
    "    \n",
    "    return {'parameters': {'method': method,\n",
    "                           'time_horizon': time_horizon,\n",
    "                           'delay': delay,\n",
    "                           'discount_rate': discount_rate}, \n",
    "            'baseline': baseline_discounted,\n",
    "            'scenario': scenario,\n",
    "            'baseline_atm_cost': baseline_atm_cost,\n",
    "            'benefit': benefit,\n",
    "            'num_for_equivalence': baseline_atm_cost/benefit}"
   ]
  },
  {
   "cell_type": "markdown",
   "id": "f9c1b23f",
   "metadata": {},
   "source": [
    "### Moura-Costa method"
   ]
  },
  {
   "cell_type": "markdown",
   "id": "76f65c9d",
   "metadata": {},
   "source": [
    "Method referenced IPCC Special report (2000) with outputs to check against: https://archive.ipcc.ch/ipccreports/sres/land_use/index.php?idp=74\n",
    "\n",
    "Method also described in Moura Costa and Wilson, 2000: https://oxfordclimatepolicy.org/sites/default/files/10.1023%252FA_1009697625521.pdf"
   ]
  },
  {
   "cell_type": "code",
   "execution_count": 9,
   "id": "afd13648",
   "metadata": {},
   "outputs": [
    {
     "name": "stdout",
     "output_type": "stream",
     "text": [
      "\n",
      "Discount rate: 0.0%\n",
      "Delay: 46 year(s)\n",
      "Baseline atmospheric cost: 45.76 ton-years\n",
      "Benefit from 1tCO2 with delay: 46.0 ton-years\n",
      "Number needed: 1.0\n",
      "\n"
     ]
    },
    {
     "data": {
      "image/png": "[encoded data removed]",
      "text/plain": [
       "<Figure size 432x288 with 1 Axes>"
      ]
     },
     "metadata": {
      "needs_background": "light"
     },
     "output_type": "display_data"
    }
   ],
   "source": [
    "time_horizon = 100\n",
    "delay = 46\n",
    "baseline = ipcc_2000\n",
    "discount_rate = 0.0\n",
    "\n",
    "mm = calculate_tonyears('mc', baseline, time_horizon, delay, discount_rate)\n",
    "print_benefit_report(mm, plot=True)\n",
    "\n",
    "t = np.arange(mm['parameters']['time_horizon'] + 1)\n",
    "plot = plt.fill_between(t, mm['baseline'], alpha = 0.2)\n",
    "plot = plt.fill_between(t[:len(mm['scenario'])], mm['scenario'], where=(np.array(mm['scenario'])<0), alpha = 0.4)"
   ]
  },
  {
   "cell_type": "markdown",
   "id": "6d78f67b",
   "metadata": {},
   "source": [
    "Baseline = 1 tCO2 atmospheric carbon released at t=0 <br/>\n",
    "Scenario = 1 tCO2 stored outside of the atmosphere for delay<br/>\n",
    "Baseline atmospheric cost = (blue area) <br/>\n",
    "Benefit = (orange area) <br/>\n",
    "Number needed = how many orange areas are equivalent to the blue area? <br/>\n",
    "** Assumes 0% re-emission ** <br/>"
   ]
  },
  {
   "cell_type": "markdown",
   "id": "31dfd16d",
   "metadata": {},
   "source": [
    "### IPCC method "
   ]
  },
  {
   "cell_type": "markdown",
   "id": "33f6bb91",
   "metadata": {},
   "source": [
    "Method described IPCC Special report, 2000: https://archive.ipcc.ch/ipccreports/sres/land_use/index.php?idp=74\n",
    "\n",
    "Conceptually distinct but numerically identical to Lashof method when discount_rate = 0"
   ]
  },
  {
   "cell_type": "code",
   "execution_count": 10,
   "id": "2b490cd7",
   "metadata": {},
   "outputs": [
    {
     "name": "stdout",
     "output_type": "stream",
     "text": [
      "\n",
      "Discount rate: 0.0%\n",
      "Delay: 46 year(s)\n",
      "Baseline atmospheric cost: 45.76 ton-years\n",
      "Benefit from 1tCO2 with delay: 16.64 ton-years\n",
      "Number needed: 2.8\n",
      "\n"
     ]
    },
    {
     "data": {
      "image/png": "[encoded data removed]",
      "text/plain": [
       "<Figure size 432x288 with 1 Axes>"
      ]
     },
     "metadata": {
      "needs_background": "light"
     },
     "output_type": "display_data"
    }
   ],
   "source": [
    "time_horizon = 100\n",
    "delay = 46\n",
    "baseline = ipcc_2000\n",
    "discount_rate = 0.0\n",
    "\n",
    "i = calculate_tonyears('ipcc', baseline, time_horizon, delay, discount_rate)\n",
    "print_benefit_report(i, plot=True)\n",
    "\n",
    "t = np.arange(i['parameters']['time_horizon'] + 1)\n",
    "plot = plt.fill_between(t, i['baseline'], alpha = 0.2)\n",
    "plot = plt.fill_between(t, i['scenario'], where=(t>=i['parameters']['delay']), alpha=0.2) "
   ]
  },
  {
   "cell_type": "markdown",
   "id": "9d42d0df",
   "metadata": {},
   "source": [
    "Baseline = 1 tCO2 released into atmospheric at t=0 <br/>\n",
    "Scenario = 1 tCO2 released into atomosphere with delay <br/>\n",
    "Baseline atmospheric cost = (blue area) <br/>\n",
    "Benefit = (blue area) - (orange area) <br/>\n",
    "Number needed = how would you need to scale the \"benefit\" to equal to the blue area? <br/>\n",
    "** Assumes 100% re-emission **"
   ]
  },
  {
   "cell_type": "markdown",
   "id": "cfe3aa3a",
   "metadata": {},
   "source": [
    "### Lashof method"
   ]
  },
  {
   "cell_type": "markdown",
   "id": "129c3b7d",
   "metadata": {},
   "source": [
    "Method referenced IPCC Special report, 2000: https://archive.ipcc.ch/ipccreports/sres/land_use/index.php?idp=74\n",
    "\n",
    "And described in Fearnside, Lashof & Moura-Costa, 2000: https://link.springer.com/article/10.1023%2FA%3A1009625122628\n",
    "\n",
    "Conceptually distinct but numerically identical to IPCC method when discount_rate = 0"
   ]
  },
  {
   "cell_type": "code",
   "execution_count": 11,
   "id": "c849289a",
   "metadata": {},
   "outputs": [
    {
     "name": "stdout",
     "output_type": "stream",
     "text": [
      "\n",
      "Discount rate: 0.0%\n",
      "Delay: 46 year(s)\n",
      "Baseline atmospheric cost: 45.76 ton-years\n",
      "Benefit from 1tCO2 with delay: 16.64 ton-years\n",
      "Number needed: 2.8\n",
      "\n"
     ]
    },
    {
     "data": {
      "image/png": "[encoded data removed]",
      "text/plain": [
       "<Figure size 432x288 with 1 Axes>"
      ]
     },
     "metadata": {
      "needs_background": "light"
     },
     "output_type": "display_data"
    }
   ],
   "source": [
    "time_horizon = 100\n",
    "delay = 46\n",
    "baseline = ipcc_2000\n",
    "discount_rate = 0.0\n",
    "\n",
    "l = calculate_tonyears('lashof', baseline, time_horizon, delay, discount_rate)\n",
    "print_benefit_report(l, plot=True)\n",
    "\n",
    "t = np.arange(l['parameters']['time_horizon'] + l['parameters']['delay']+ 1)\n",
    "plot = plt.fill_between(t[:len(l['baseline'])], l['baseline'], alpha = 0.2)\n",
    "plot = plt.fill_between(t, l['scenario'], where=(t>=l['parameters']['time_horizon']), alpha = 0.2)"
   ]
  },
  {
   "cell_type": "markdown",
   "id": "c9e95627",
   "metadata": {},
   "source": [
    "Baseline = 1 tCO2 released into atmospheric at t=0 <br/>\n",
    "Scenario = 1 tCO2 released into atomosphere with delay <br/>\n",
    "Baseline atmospheric cost = (blue area)\n",
    "Benefit = (orange area) = atmospheric cost no longer occuring w/in the time horizon <br/>\n",
    "Number needed = how many orange areas would you need to equal the blue area?<br/>\n",
    "** Assumes 100% re-emission **"
   ]
  },
  {
   "cell_type": "markdown",
   "id": "fcf1ce1c",
   "metadata": {},
   "source": [
    "# Methods x Delay"
   ]
  },
  {
   "cell_type": "code",
   "execution_count": 13,
   "id": "1ac0e07e",
   "metadata": {},
   "outputs": [
    {
     "data": {
      "text/plain": [
       "<matplotlib.legend.Legend at 0x7fa440999be0>"
      ]
     },
     "execution_count": 13,
     "metadata": {},
     "output_type": "execute_result"
    },
    {
     "data": {
      "image/png": "[encoded data removed]",
      "text/plain": [
       "<Figure size 432x288 with 1 Axes>"
      ]
     },
     "metadata": {
      "needs_background": "light"
     },
     "output_type": "display_data"
    }
   ],
   "source": [
    "time_horizon = 100\n",
    "baseline = ipcc_2000\n",
    "#delay = 1\n",
    "discount_rate = 0.0\n",
    "\n",
    "for method in ['mc', 'ipcc', 'lashof']:\n",
    "    num_needed = []\n",
    "    for delay in np.arange(1,100):\n",
    "        num_needed.append(1/calculate_tonyears(method, baseline, time_horizon, delay, discount_rate)['num_for_equivalence'])\n",
    "    plt.plot(num_needed, label=method)\n",
    "\n",
    "plt.xlabel('delay')\n",
    "plt.ylabel('1 / num_needed')\n",
    "plt.legend()"
   ]
  },
  {
   "cell_type": "markdown",
   "id": "568274b4",
   "metadata": {},
   "source": [
    "# Methods x Time Horizon"
   ]
  },
  {
   "cell_type": "code",
   "execution_count": 14,
   "id": "0ef6088b",
   "metadata": {},
   "outputs": [
    {
     "data": {
      "text/plain": [
       "<matplotlib.legend.Legend at 0x7fa4408a9be0>"
      ]
     },
     "execution_count": 14,
     "metadata": {},
     "output_type": "execute_result"
    },
    {
     "data": {
      "image/png": "[encoded data removed]",
      "text/plain": [
       "<Figure size 432x288 with 1 Axes>"
      ]
     },
     "metadata": {
      "needs_background": "light"
     },
     "output_type": "display_data"
    }
   ],
   "source": [
    "#time_horizon = 100\n",
    "baseline = ipcc_2000\n",
    "delay = 1\n",
    "discount_rate = 0.0\n",
    "\n",
    "for method in ['mc', 'ipcc', 'lashof']:\n",
    "    num_needed = []\n",
    "    for time_horizon in np.arange(100,1000):\n",
    "        num_needed.append(1/calculate_tonyears(method, baseline, time_horizon, delay, discount_rate)['num_for_equivalence'])\n",
    "    plt.plot(num_needed,label=method)\n",
    "\n",
    "plt.xlabel('time horizon')\n",
    "plt.ylabel('number needed')\n",
    "plt.legend()"
   ]
  },
  {
   "cell_type": "markdown",
   "id": "2ed2f9b9",
   "metadata": {},
   "source": [
    "# Methods x Discounting"
   ]
  },
  {
   "cell_type": "markdown",
   "id": "5f28d09e",
   "metadata": {},
   "source": [
    "Lashof excluded in the graph below as it is highly sensitive to discounting and blows up as discount rate increases"
   ]
  },
  {
   "cell_type": "code",
   "execution_count": 15,
   "id": "1d38f970",
   "metadata": {},
   "outputs": [
    {
     "data": {
      "text/plain": [
       "<matplotlib.legend.Legend at 0x7fa440827b80>"
      ]
     },
     "execution_count": 15,
     "metadata": {},
     "output_type": "execute_result"
    },
    {
     "data": {
      "image/png": "[encoded data removed]",
      "text/plain": [
       "<Figure size 432x288 with 1 Axes>"
      ]
     },
     "metadata": {
      "needs_background": "light"
     },
     "output_type": "display_data"
    }
   ],
   "source": [
    "time_horizon = 100\n",
    "baseline = ipcc_2000\n",
    "delay = 1\n",
    "#discount_rate = 0.0\n",
    "\n",
    "d = np.linspace(0, 0.1, 30)\n",
    "for method in ['mc', 'ipcc', 'lashof']:\n",
    "    num_needed = []\n",
    "    for discount_rate in d:\n",
    "        num_needed.append(1/calculate_tonyears(method, baseline, time_horizon,delay, discount_rate)['num_for_equivalence'])\n",
    "    plt.plot(d, num_needed,label=method)\n",
    "\n",
    "plt.xlabel('discount rate')\n",
    "plt.ylabel('1/number needed')\n",
    "plt.legend()\n"
   ]
  },
  {
   "cell_type": "markdown",
   "id": "e84741d5",
   "metadata": {},
   "source": [
    "### Cost sensitivity"
   ]
  },
  {
   "cell_type": "markdown",
   "id": "0c20c222",
   "metadata": {},
   "source": [
    "Imagine a carbon credit is $10/tCO2, where a 'tCO2' is a handful of ton-years packaged up according to the a ton-year accounting methodology. As a baseline, let imagine the methodology applied results in a favorable (i.e. low) ratio of ton-years needed to be 'equivalent' to the impacts of an emitted tCO2. "
   ]
  },
  {
   "cell_type": "code",
   "execution_count": 21,
   "id": "9513c36f",
   "metadata": {},
   "outputs": [
    {
     "name": "stdout",
     "output_type": "stream",
     "text": [
      "Cost per ton-year: $0.56\n",
      "Cost of permanent ton: $10\n"
     ]
    }
   ],
   "source": [
    "time_horizon = 100\n",
    "baseline = ipcc_2000\n",
    "delay = 1\n",
    "discount_rate = 0.03\n",
    "\n",
    "cost_per_ton = 10\n",
    "\n",
    "x = calculate_tonyears('mc', baseline, time_horizon, delay, discount_rate)\n",
    "ton_year_cost = cost_per_ton/x['baseline_atm_cost']\n",
    "print('Cost per ton-year: $' + str(round(ton_year_cost,2)))\n",
    "print('Cost of permanent ton: $' + str(round(ton_year_cost * x['num_for_equivalence'])))"
   ]
  },
  {
   "cell_type": "markdown",
   "id": "0fd8d90d",
   "metadata": {},
   "source": [
    "If the cost/ton-year reflects a true cost of taking an action today, we can ask how the cost of a buying a 'equivalent tCO2' via ton-years today changes as we change the method or parameters:"
   ]
  },
  {
   "cell_type": "code",
   "execution_count": 22,
   "id": "8d999881",
   "metadata": {},
   "outputs": [
    {
     "name": "stdout",
     "output_type": "stream",
     "text": [
      "\n",
      "Discount rate: 0.0%\n",
      "Delay: 1 year(s)\n",
      "Baseline atmospheric cost: 310.16 ton-years\n",
      "Benefit from 1tCO2 with delay: 0.24 ton-years\n",
      "Number needed: 1319.4\n",
      "\n",
      "Cost per ton-year: $0.56\n",
      "Cost of permanent ton: $735.31\n"
     ]
    }
   ],
   "source": [
    "time_horizon = 1000\n",
    "baseline = joos_2013\n",
    "delay = 1\n",
    "discount_rate = 0.00\n",
    "\n",
    "y = calculate_tonyears('ipcc', baseline, time_horizon, delay, discount_rate)\n",
    "print_benefit_report(y, False)\n",
    "print('Cost per ton-year: $' + str(round(ton_year_cost,2)))\n",
    "print('Cost of permanent ton: $' + str(round(ton_year_cost * ncx['num_for_equivalence'],2)))"
   ]
  }
 ],
 "metadata": {
  "kernelspec": {
   "display_name": "Python [conda env:notebook] *",
   "language": "python",
   "name": "conda-env-notebook-py"
  },
  "language_info": {
   "codemirror_mode": {
    "name": "ipython",
    "version": 3
   },
   "file_extension": ".py",
   "mimetype": "text/x-python",
   "name": "python",
   "nbconvert_exporter": "python",
   "pygments_lexer": "ipython3",
   "version": "3.8.10"
  }
 },
 "nbformat": 4,
 "nbformat_minor": 5
}
