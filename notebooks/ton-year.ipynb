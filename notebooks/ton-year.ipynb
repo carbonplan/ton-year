{
 "cells": [
  {
   "cell_type": "code",
   "execution_count": null,
   "id": "3419caa4",
   "metadata": {},
   "outputs": [],
   "source": [
    "%matplotlib inline\n",
    "\n",
    "import math\n",
    "\n",
    "import numpy as np\n",
    "import matplotlib.pyplot as plt\n",
    "\n",
    "import sys; sys.path.insert(0, '..')\n",
    "import tonyear\n",
    "\n",
    "from carbonplan import styles\n",
    "styles.mpl.set_theme(style='carbonplan_light', font_scale=1.25)"
   ]
  },
  {
   "cell_type": "markdown",
   "id": "4025d11b",
   "metadata": {},
   "source": [
    "# Carbon Impulse Response Function (i.e. the baseline curve)\n"
   ]
  },
  {
   "cell_type": "markdown",
   "id": "39a749c5",
   "metadata": {},
   "source": [
    "An Impulse Reponse Functions (IRFs) represents the time-dependent fraction of an\n",
    "emission pulse remaining in the atmosphere at time t. It is usually approximated\n",
    "by a sum of exponentials:\n",
    "\n",
    "$ IRF_x(t) = a_{x,0} + \\sum_{i=1}^{3} a_{x,i} * e^{-t / tau_i} $\n",
    "\n",
    "You can read more about IRFs here:\n",
    "https://www.ipcc.ch/site/assets/uploads/2018/07/WGI_AR5.Chap_.8_SM.pdf\n",
    "\n",
    "The $a$ and $tau$ parameters for CO2 can be taken from literature:\n",
    "\n",
    "- Joos, F., Roth, R., Fuglestvedt, J. S., Peters, G. P., Enting, I. G., von\n",
    "  Bloh, W., Brovkin, V., Burke, E. J., Eby, M., Edwards, N. R., Friedrich, T.,\n",
    "  Frölicher, T. L., Halloran, P. R., Holden, P. B., Jones, C., Kleinen, T.,\n",
    "  Mackenzie, F. T., Matsumoto, K., Meinshausen, M., Plattner, G.-K., Reisinger,\n",
    "  A., Segschneider, J., Shaffer, G., Steinacher, M., Strassmann, K., Tanaka, K.,\n",
    "  Timmermann, A., and Weaver, A. J.: Carbon dioxide and climate impulse response\n",
    "  functions for the computation of greenhouse gas metrics: a multi-model\n",
    "  analysis, Atmos. Chem. Phys., 13, 2793–2825,\n",
    "  https://doi.org/10.5194/acp-13-2793-2013, 2013.\n",
    "\n",
    "* Forster, P., V. Ramaswamy, P. Artaxo, T. Berntsen, R. Betts, D.W. Fahey, J.\n",
    "  Haywood, J. Lean, D.C. Lowe, G. Myhre, J. Nganga, R. Prinn, G. Raga, M. Schulz\n",
    "  and R. Van Dorland, 2007: Changes in Atmospheric Constituents and in Radiative\n",
    "  Forcing. In: Climate Change 2007: The Physical Science Basis. Contribution of\n",
    "  Working Group I to the Fourth Assessment Report of the Intergovernmental Panel\n",
    "  on Climate Change [Solomon, S., D. Qin, M. Manning, Z. Chen, M. Marquis, K.B.\n",
    "  Averyt, M.Tignor and H.L. Miller (eds.)]:\n",
    "  https://www.ipcc.ch/site/assets/uploads/2018/02/ar4-wg1-chapter2-1.pdf\n",
    "  (pg. 213)\n",
    "\n",
    "- IPCC: Special Report on Land Use, Land‐Use Change, and Forestry, Section\n",
    "  2.3.6.3, 2000,\n",
    "  https://archive.ipcc.ch/ipccreports/sres/land_use/index.php?idp=74 and\n",
    "  footnote https://archive.ipcc.ch/ipccreports/sres/land_use/fn3.htm#4\n"
   ]
  },
  {
   "cell_type": "code",
   "execution_count": null,
   "id": "772df4df",
   "metadata": {},
   "outputs": [],
   "source": [
    "ipcc_2000 = tonyear.get_baseline_curve(\"ipcc_2000\")\n",
    "ipcc_2007 = tonyear.get_baseline_curve(\"ipcc_2007\")\n",
    "joos_2013 = tonyear.get_baseline_curve(\"joos_2013\")\n",
    "plt.plot(ipcc_2000, label=\"ipcc_2000\")\n",
    "plt.plot(ipcc_2007, label=\"ipcc_2007\")\n",
    "plt.plot(joos_2013, label=\"joos_2013\")\n",
    "plt.legend()"
   ]
  },
  {
   "cell_type": "markdown",
   "id": "82cbfb70",
   "metadata": {},
   "source": [
    "# Ton-year accounting methods\n"
   ]
  },
  {
   "cell_type": "markdown",
   "id": "68b8c06f",
   "metadata": {},
   "source": [
    "The ton-year module calculates the benefit of a delayed emission according one\n",
    "of two ton-year accounting methods: Moura Costa or Lashof. Examples of both of\n",
    "these methods are shown below.\n",
    "\n",
    "### Parameters\n",
    "\n",
    "- method : (str) The ton-year accounting method (Moura Costa: 'mc', or Lashof:\n",
    "  'lashof')\n",
    "- baseline : (np.ndarray) Array modeling the residence of an emission in the\n",
    "  atmosphere over time, i.e. a decay curve / impulse response function\n",
    "- time_horizon : (int) Specifies the period over which the impact of an emission\n",
    "  is considered (years)\n",
    "- delay : (int) Specifies the emission delay for which a ton-year benefit will\n",
    "  be calculated (years)\n",
    "- discount_rate : (float) Specifies the discount rate to apply time preference\n",
    "  to both costs and benefits over the time horizon\n",
    "\n",
    "### Returns\n",
    "\n",
    "- method_dict : (dict) Dictionary with the following keys: parameters: key\n",
    "  parameters used for the calculation baseline: array modeling baseline emission\n",
    "  curve (discounted if applicable) scenario: array modeling the scenario curve\n",
    "  (discounted if applicable) baseline_atm_cost: the cost of of a baseline\n",
    "  emission (ton-years) benefit: the benefit of delaying an emission, calculated\n",
    "  according to specified accounting method (ton-years) num_for_equivalence: the\n",
    "  ratio between the baseline cost and the benefit\n"
   ]
  },
  {
   "cell_type": "markdown",
   "id": "83823009",
   "metadata": {},
   "source": [
    "## Moura-Costa\n"
   ]
  },
  {
   "cell_type": "markdown",
   "id": "96765118",
   "metadata": {},
   "source": [
    "Moura Costa calculates the benefit of carbon storage in the most straightforward\n",
    "way possible: count up the number of tons stored and multiply by the storage\n",
    "duration. In other words, Moura Costa looks at the carbon-storage, but does not\n",
    "does not directly quantify atmospheric outcomes nor consider the potential\n",
    "impact of re-emission after the temporary storage period.\n",
    "\n",
    "The Moura Costa ton year accounting method is described in Moura Costa and\n",
    "Wilson, 2000:\n",
    "https://oxfordclimatepolicy.org/sites/default/files/10.1023%252FA_1009697625521.pdf\n",
    "\n",
    "Method is also referenced in the IPCC Special Report (2000):\n",
    "https://archive.ipcc.ch/ipccreports/sres/land_use/index.php?idp=74\n",
    "\n",
    "We show an example of the tonyear module's Moura Costa ton-year calculation\n",
    "below, using the parameters from the IPCC Special Report.\n"
   ]
  },
  {
   "cell_type": "code",
   "execution_count": null,
   "id": "d709016b",
   "metadata": {},
   "outputs": [],
   "source": [
    "time_horizon = 100\n",
    "delay = 46\n",
    "baseline = ipcc_2000\n",
    "discount_rate = 0.0\n",
    "\n",
    "mm = tonyear.calculate_tonyears(\n",
    "    \"mc\", baseline, time_horizon, delay, discount_rate\n",
    ")"
   ]
  },
  {
   "cell_type": "markdown",
   "id": "9dc3837d",
   "metadata": {},
   "source": [
    "With the output dictionary returned by the calculate_tonyears method, we can\n",
    "print a benefit report to quickly summarize the outputs of the\n",
    "calculation:recreate the visualizations used to anchor explanations of the Moura\n",
    "Costa method in literature.\n"
   ]
  },
  {
   "cell_type": "code",
   "execution_count": null,
   "id": "59b3abb9",
   "metadata": {},
   "outputs": [],
   "source": [
    "tonyear.print_benefit_report(mm)"
   ]
  },
  {
   "cell_type": "markdown",
   "id": "0bd54e5c",
   "metadata": {},
   "source": [
    "We can also use the output dictionary to recreate the visualizations used to\n",
    "anchor explanations of the Moura Costa method in literature.\n"
   ]
  },
  {
   "cell_type": "code",
   "execution_count": null,
   "id": "b37887f9",
   "metadata": {},
   "outputs": [],
   "source": [
    "t = np.arange(mm[\"parameters\"][\"time_horizon\"] + 1)\n",
    "plot = plt.fill_between(\n",
    "    t,\n",
    "    mm[\"baseline\"],\n",
    "    color=\"red\",\n",
    "    alpha=0.2,\n",
    "    label=\"ton-year cost of emitting 1tCO2\",\n",
    ")\n",
    "plot = plt.fill_between(\n",
    "    t[: len(mm[\"scenario\"])],\n",
    "    mm[\"scenario\"],\n",
    "    where=(np.array(mm[\"scenario\"]) < 0),\n",
    "    color=\"green\",\n",
    "    alpha=0.2,\n",
    "    label=\"ton-year benefit of temporarily storing 1tCO2\",\n",
    ")\n",
    "plt.legend(loc=\"lower center\", bbox_to_anchor=(0.5, -0.4))"
   ]
  },
  {
   "cell_type": "markdown",
   "id": "0bf06960",
   "metadata": {},
   "source": [
    "According to the Moura Costa method, the benefit of the temporary storage is\n",
    "simply the ton-years represented by the green rectangle in the figure above. The\n",
    "green area is compared to the red area to determine the equivalency ratio, or in\n",
    "other words, the number of tCO2 stored for the specified delay to produce an\n",
    "\"equivalent\" climate outcome as the emission. See our\n",
    "[ton-year explainer](https://carbonplan.org/research/ton-year-explainer) for\n",
    "further discussion about the shortcomings of this approach. In short, it is our\n",
    "opinion that the claims made by the Moura Costa method are not physically\n",
    "credible and that the method should not be used to establish climate-equivalency\n",
    "claims or issue carbon offsets. Since the method is in use and poised for\n",
    "expansion, we include it in the module.\n"
   ]
  },
  {
   "cell_type": "markdown",
   "id": "db0c2088",
   "metadata": {},
   "source": [
    "## Lashof\n"
   ]
  },
  {
   "cell_type": "markdown",
   "id": "491c901b",
   "metadata": {},
   "source": [
    "Lashof looks only at the atmospheric outcomes and assumes that the temporarily\n",
    "stored carbon is fully re-emitted at the end of the storage period. Lashof’s\n",
    "benefit calculation asks how many ton-years of atmospheric impact are avoided\n",
    "within the specified time horizon.\n",
    "\n",
    "The method is described in Fearnside, Lashof & Moura-Costa, 2000:\n",
    "https://link.springer.com/article/10.1023%2FA%3A1009625122628\n",
    "\n",
    "Method is also referenced IPCC Special report, 2000:\n",
    "https://archive.ipcc.ch/ipccreports/sres/land_use/index.php?idp=74\n",
    "\n",
    "We show an example of the tonyear module's Moura Costa ton-year calculation\n",
    "below, using the parameters from the IPCC Special Report.\n"
   ]
  },
  {
   "cell_type": "code",
   "execution_count": null,
   "id": "b8135f31",
   "metadata": {},
   "outputs": [],
   "source": [
    "time_horizon = 100\n",
    "delay = 46\n",
    "baseline = ipcc_2000\n",
    "discount_rate = 0.0\n",
    "\n",
    "l = tonyear.calculate_tonyears(\n",
    "    \"lashof\", baseline, time_horizon, delay, discount_rate\n",
    ")"
   ]
  },
  {
   "cell_type": "code",
   "execution_count": null,
   "id": "96b4071e",
   "metadata": {},
   "outputs": [],
   "source": [
    "tonyear.print_benefit_report(l)"
   ]
  },
  {
   "cell_type": "code",
   "execution_count": null,
   "id": "fe0f85cb",
   "metadata": {},
   "outputs": [],
   "source": [
    "t = np.arange(l[\"parameters\"][\"time_horizon\"] + 1)\n",
    "plot = plt.fill_between(\n",
    "    t,\n",
    "    l[\"baseline\"],\n",
    "    color=\"red\",\n",
    "    alpha=0.2,\n",
    "    label=\"ton-year cost of emitting 1tCO2\",\n",
    ")\n",
    "plot = plt.fill_between(\n",
    "    t,\n",
    "    l[\"scenario\"],\n",
    "    where=(t >= l[\"parameters\"][\"delay\"]),\n",
    "    color=\"orange\",\n",
    "    alpha=0.4,\n",
    "    label=\"ton-year cost of emitting 1tCO2 after temporary storage period\",\n",
    ")\n",
    "plt.legend(loc=\"lower center\", bbox_to_anchor=(0.5, -0.4))"
   ]
  },
  {
   "cell_type": "markdown",
   "id": "5c9c3cc2",
   "metadata": {},
   "source": [
    "Lashof calculated the benefit of temporary storage as the difference between the\n",
    "red area (the ton-year cost of the emission) and the orange area (the ton-year\n",
    "cost of re-emitting 1tCO2 after a temporary storage period). This benefit\n",
    "calculation is thus based on the conservative assumption that carbon is fully\n",
    "re-emitted after the temporary storage period.\n",
    "\n",
    "This benefit calculation is often visualized as shown below. In this\n",
    "visualization of Lashof, the the post-storage emission is simply the baseline\n",
    "emission shifted over to account for the temporary storage period. The\n",
    "post-storage emission thus extends past the time-horizon by {{delay}} years. The\n",
    "area of sticking out past the time horizon is equivalent to the ton-years of\n",
    "atmospheric impact that are avoided within the specified time horizon.\n",
    "\n",
    "These two methods for visualizing and calculating the Lashof benefit are\n",
    "equivalent in the absence of a discount rate.\n"
   ]
  },
  {
   "cell_type": "code",
   "execution_count": null,
   "id": "52d2efbc",
   "metadata": {},
   "outputs": [],
   "source": [
    "t = np.arange(l[\"parameters\"][\"time_horizon\"] + l[\"parameters\"][\"delay\"] + 1)\n",
    "plot = plt.plot(\n",
    "    l[\"baseline\"], color=\"red\", alpha=0.4, label=\"baseline emission\"\n",
    ")\n",
    "\n",
    "final_storage_year = l[\"parameters\"][\"delay\"] - 1\n",
    "shifted_baseline = np.concatenate(\n",
    "    (np.zeros(l[\"parameters\"][\"delay\"]), l[\"baseline\"])\n",
    ")\n",
    "\n",
    "plot = plt.plot(\n",
    "    t[final_storage_year:],\n",
    "    shifted_baseline[final_storage_year:],\n",
    "    color=\"orange\",\n",
    "    label=\"emission of 1tCO2 after temporary storage period\",\n",
    ")\n",
    "\n",
    "plot = plt.fill_between(\n",
    "    t[l[\"parameters\"][\"time_horizon\"] :],\n",
    "    shifted_baseline[100:],\n",
    "    color=\"green\",\n",
    "    alpha=0.2,\n",
    "    label=\"ton-year benefit of temporarily storing 1tCO2\",\n",
    ")\n",
    "\n",
    "plt.xlim(0)\n",
    "plt.legend(loc=\"lower center\", bbox_to_anchor=(0.5, -0.5))"
   ]
  }
 ],
 "metadata": {
  "kernelspec": {
   "display_name": "Python [conda env:notebook] *",
   "language": "python",
   "name": "conda-env-notebook-py"
  },
  "language_info": {
   "codemirror_mode": {
    "name": "ipython",
    "version": 3
   },
   "file_extension": ".py",
   "mimetype": "text/x-python",
   "name": "python",
   "nbconvert_exporter": "python",
   "pygments_lexer": "ipython3",
   "version": "3.8.12"
  }
 },
 "nbformat": 4,
 "nbformat_minor": 5
}
